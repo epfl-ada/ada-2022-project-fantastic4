{
 "cells": [
  {
   "cell_type": "markdown",
   "metadata": {},
   "source": [
    "# Import the modules"
   ]
  },
  {
   "cell_type": "code",
   "execution_count": 71,
   "metadata": {},
   "outputs": [],
   "source": [
    "import tarfile\n",
    "import pandas as pd\n",
    "import numpy as np\n",
    "import seaborn as sns\n",
    "import matplotlib.pyplot as plt\n",
    "import csv\n",
    "%matplotlib inline"
   ]
  },
  {
   "cell_type": "markdown",
   "metadata": {},
   "source": [
    "# Import the data"
   ]
  },
  {
   "cell_type": "code",
   "execution_count": 86,
   "metadata": {},
   "outputs": [],
   "source": [
    "DATA_FOLDER = 'Data/'\n",
    "# \"Handled datasets\"\n",
    "CHARACTER_DATASET = DATA_FOLDER + 'characters.pkl'\n",
    "MOVIE_DATASET = DATA_FOLDER + 'movies.pkl'\n",
    "\n",
    "SUMMARIES_DATASET = DATA_FOLDER + 'plot_summaries.txt'\n",
    "NLP_DATASET = DATA_FOLDER + 'corenlp_plot_summaries.tar'"
   ]
  },
  {
   "cell_type": "code",
   "execution_count": 87,
   "metadata": {},
   "outputs": [],
   "source": [
    "def load_metadata(path, column_names, header=None, low_memory=False):\n",
    "    return pd.read_table(path, header=header, names=column_names)"
   ]
  },
  {
   "cell_type": "code",
   "execution_count": 88,
   "metadata": {},
   "outputs": [],
   "source": [
    "columns_character = ['Wikipedia_movie_ID', 'Freebase_movie_ID', 'Movie_release_date', 'Character_name', 'Actor_date_of_birth', 'Actor_gender', 'Actor_height_meters', 'Actor_ethnicity_Freebase_ID', 'Actor_name', 'Actor_age_at_movie_release', 'Freebase_character_actor_map_ID', 'Freebase_character_ID', 'Freebase_actor_ID']\n",
    "columns_movie = ['Wikipedia_movie_ID', 'Freebase_movie_ID', 'Movie_name','Movie_release_date','Movie_box_office_revenue', 'Movie_runtime','Movie_languages','Movie_countries','Movie_genres' ]\n",
    "\n",
    "characters = pd.read_pickle(CHARACTER_DATASET)\n",
    "movies = pd.read_pickle(MOVIE_DATASET)"
   ]
  },
  {
   "cell_type": "markdown",
   "metadata": {},
   "source": [
    "# Little cleaning"
   ]
  },
  {
   "cell_type": "markdown",
   "metadata": {},
   "source": [
    "As we pickled our data, we just have to turn the dates back to the pandas datetime format.\n",
    "\n",
    "We also keep a version of our datasets without dropping the NaN (which are quite numerous, see below)."
   ]
  },
  {
   "cell_type": "markdown",
   "metadata": {},
   "source": [
    "## Dates as datetime"
   ]
  },
  {
   "cell_type": "code",
   "execution_count": 89,
   "metadata": {},
   "outputs": [],
   "source": [
    "movies.Movie_release_date = pd.to_datetime(movies.Movie_release_date,format='%Y').dt.year\n",
    "characters.Movie_release_date = pd.to_datetime(characters.Movie_release_date,format='%Y').dt.year\n",
    "characters.Actor_date_of_birth = pd.to_datetime(characters.Actor_date_of_birth,format='%Y',utc=True,errors='coerce').dt.year"
   ]
  },
  {
   "cell_type": "markdown",
   "metadata": {},
   "source": [
    "## NaN"
   ]
  },
  {
   "cell_type": "code",
   "execution_count": 90,
   "metadata": {},
   "outputs": [
    {
     "name": "stdout",
     "output_type": "stream",
     "text": [
      "Number of NaN in the movies dataset:\n",
      " Wikipedia_movie_ID              0\n",
      "Freebase_movie_ID               0\n",
      "Movie_name                      0\n",
      "Movie_release_date           6902\n",
      "Movie_box_office_revenue    73340\n",
      "Movie_runtime               20450\n",
      "Movie_languages                 0\n",
      "Movie_countries                 0\n",
      "Movie_genres                    0\n",
      "dtype: int64\n",
      ">>> 89.72% of the rows with at least one NanN\n",
      "\n",
      "Number of NaN in the characters dataset:\n",
      " Wikipedia_movie_ID                      0\n",
      "Freebase_movie_ID                       0\n",
      "Movie_release_date                   9994\n",
      "Character_name                     257856\n",
      "Actor_date_of_birth                106145\n",
      "Actor_gender                        45603\n",
      "Actor_height_meters                295825\n",
      "Actor_ethnicity_Freebase_ID        344589\n",
      "Actor_name                           1228\n",
      "Actor_age_at_movie_release         158102\n",
      "Freebase_character_actor_map_ID         0\n",
      "Freebase_character_ID              257846\n",
      "Freebase_actor_ID                     815\n",
      "dtype: int64\n",
      ">>> 76.47% of the rows with at least one NanN\n"
     ]
    }
   ],
   "source": [
    "print('Number of NaN in the movies dataset:\\n',movies.isnull().sum())\n",
    "print('>>> {perc:.2f}% of the rows with at least one NanN'.format(perc=movies.isnull().sum().max()/len(movies)*100))\n",
    "print('\\nNumber of NaN in the characters dataset:\\n',characters.isnull().sum())\n",
    "print('>>> {perc:.2f}% of the rows with at least one NanN'.format(perc=characters.isnull().sum().max()/len(characters)*100))"
   ]
  },
  {
   "cell_type": "code",
   "execution_count": 91,
   "metadata": {},
   "outputs": [],
   "source": [
    "characters_nodrop = characters.copy()\n",
    "movies_nodrop = movies.copy()\n",
    "\n",
    "characters = characters.dropna()\n",
    "movies = movies.dropna()"
   ]
  },
  {
   "cell_type": "markdown",
   "metadata": {},
   "source": [
    "# Visualisations"
   ]
  },
  {
   "cell_type": "markdown",
   "metadata": {},
   "source": [
    "## Movies"
   ]
  },
  {
   "cell_type": "markdown",
   "metadata": {},
   "source": [
    "### General statistics"
   ]
  },
  {
   "cell_type": "code",
   "execution_count": 92,
   "metadata": {},
   "outputs": [
    {
     "data": {
      "text/html": [
       "<div>\n",
       "<style scoped>\n",
       "    .dataframe tbody tr th:only-of-type {\n",
       "        vertical-align: middle;\n",
       "    }\n",
       "\n",
       "    .dataframe tbody tr th {\n",
       "        vertical-align: top;\n",
       "    }\n",
       "\n",
       "    .dataframe thead th {\n",
       "        text-align: right;\n",
       "    }\n",
       "</style>\n",
       "<table border=\"1\" class=\"dataframe\">\n",
       "  <thead>\n",
       "    <tr style=\"text-align: right;\">\n",
       "      <th></th>\n",
       "      <th>Wikipedia_movie_ID</th>\n",
       "      <th>Movie_release_date</th>\n",
       "      <th>Movie_box_office_revenue</th>\n",
       "      <th>Movie_runtime</th>\n",
       "    </tr>\n",
       "  </thead>\n",
       "  <tbody>\n",
       "    <tr>\n",
       "      <th>count</th>\n",
       "      <td>8.174100e+04</td>\n",
       "      <td>74839.000000</td>\n",
       "      <td>8.401000e+03</td>\n",
       "      <td>6.129100e+04</td>\n",
       "    </tr>\n",
       "    <tr>\n",
       "      <th>mean</th>\n",
       "      <td>1.740784e+07</td>\n",
       "      <td>1977.489892</td>\n",
       "      <td>4.799363e+07</td>\n",
       "      <td>1.118192e+02</td>\n",
       "    </tr>\n",
       "    <tr>\n",
       "      <th>std</th>\n",
       "      <td>1.098791e+07</td>\n",
       "      <td>28.886090</td>\n",
       "      <td>1.121753e+08</td>\n",
       "      <td>4.360070e+03</td>\n",
       "    </tr>\n",
       "    <tr>\n",
       "      <th>min</th>\n",
       "      <td>3.300000e+02</td>\n",
       "      <td>1888.000000</td>\n",
       "      <td>1.000000e+04</td>\n",
       "      <td>0.000000e+00</td>\n",
       "    </tr>\n",
       "    <tr>\n",
       "      <th>25%</th>\n",
       "      <td>7.323695e+06</td>\n",
       "      <td>1956.000000</td>\n",
       "      <td>2.083193e+06</td>\n",
       "      <td>8.100000e+01</td>\n",
       "    </tr>\n",
       "    <tr>\n",
       "      <th>50%</th>\n",
       "      <td>1.777899e+07</td>\n",
       "      <td>1985.000000</td>\n",
       "      <td>1.063969e+07</td>\n",
       "      <td>9.300000e+01</td>\n",
       "    </tr>\n",
       "    <tr>\n",
       "      <th>75%</th>\n",
       "      <td>2.715573e+07</td>\n",
       "      <td>2004.000000</td>\n",
       "      <td>4.071696e+07</td>\n",
       "      <td>1.060000e+02</td>\n",
       "    </tr>\n",
       "    <tr>\n",
       "      <th>max</th>\n",
       "      <td>3.750192e+07</td>\n",
       "      <td>2016.000000</td>\n",
       "      <td>2.782275e+09</td>\n",
       "      <td>1.079281e+06</td>\n",
       "    </tr>\n",
       "  </tbody>\n",
       "</table>\n",
       "</div>"
      ],
      "text/plain": [
       "       Wikipedia_movie_ID  Movie_release_date  Movie_box_office_revenue  \\\n",
       "count        8.174100e+04        74839.000000              8.401000e+03   \n",
       "mean         1.740784e+07         1977.489892              4.799363e+07   \n",
       "std          1.098791e+07           28.886090              1.121753e+08   \n",
       "min          3.300000e+02         1888.000000              1.000000e+04   \n",
       "25%          7.323695e+06         1956.000000              2.083193e+06   \n",
       "50%          1.777899e+07         1985.000000              1.063969e+07   \n",
       "75%          2.715573e+07         2004.000000              4.071696e+07   \n",
       "max          3.750192e+07         2016.000000              2.782275e+09   \n",
       "\n",
       "       Movie_runtime  \n",
       "count   6.129100e+04  \n",
       "mean    1.118192e+02  \n",
       "std     4.360070e+03  \n",
       "min     0.000000e+00  \n",
       "25%     8.100000e+01  \n",
       "50%     9.300000e+01  \n",
       "75%     1.060000e+02  \n",
       "max     1.079281e+06  "
      ]
     },
     "execution_count": 92,
     "metadata": {},
     "output_type": "execute_result"
    }
   ],
   "source": [
    "movies_nodrop.describe()"
   ]
  },
  {
   "cell_type": "markdown",
   "metadata": {},
   "source": [
    "As expected, the standard variation for the box office revenue is very high. We therefore decide to use the median revenue instead of mean revenue, and plot in y log-scale."
   ]
  },
  {
   "cell_type": "markdown",
   "metadata": {},
   "source": [
    "### Some evolutions"
   ]
  },
  {
   "cell_type": "markdown",
   "metadata": {},
   "source": [
    "#### About the revenue"
   ]
  },
  {
   "cell_type": "code",
   "execution_count": 122,
   "metadata": {},
   "outputs": [],
   "source": [
    "step = 3 # step for the dates in the x-axis ticks\n",
    "xmin = int(min(movies.Movie_release_date))\n",
    "xmax = int(max(movies.Movie_release_date))"
   ]
  },
  {
   "cell_type": "markdown",
   "metadata": {},
   "source": [
    "Evolution of box office revenue"
   ]
  },
  {
   "cell_type": "code",
   "execution_count": 124,
   "metadata": {},
   "outputs": [
    {
     "data": {
      "text/plain": [
       "Text(0.5, 1.0, 'Evolution of median box office revenue per year (log-linear)')"
      ]
     },
     "execution_count": 124,
     "metadata": {},
     "output_type": "execute_result"
    },
    {
     "data": {
      "image/png": "[encoded data removed]",
      "text/plain": [
       "<Figure size 1008x576 with 1 Axes>"
      ]
     },
     "metadata": {
      "needs_background": "light"
     },
     "output_type": "display_data"
    }
   ],
   "source": [
    "step = 3 # step for the dates in the x-axis ticks\n",
    "fig,ax = plt.subplots(figsize=(14,8))\n",
    "sns.barplot(data = movies, x='Movie_release_date', y='Movie_box_office_revenue',estimator='median', ax=ax)\n",
    "plt.xticks([i for i in range(0,xmax+1-xmin,3)],rotation=90)\n",
    "#plt.xticks(rotation=90)\n",
    "plt.yscale('log')\n",
    "plt.title('Evolution of median box office revenue per year (log-linear)')"
   ]
  },
  {
   "cell_type": "markdown",
   "metadata": {},
   "source": [
    "The high peaks in 1915 seem strange, as for the relative high revenue around 1921. Let us plot the evolution of the number of films per year (only those with a valid revenue i.e non-NaN)."
   ]
  },
  {
   "cell_type": "code",
   "execution_count": 127,
   "metadata": {},
   "outputs": [
    {
     "data": {
      "text/plain": [
       "Text(0.5, 1.0, 'Evolution of number of films per year (log-linear)')"
      ]
     },
     "execution_count": 127,
     "metadata": {},
     "output_type": "execute_result"
    },
    {
     "data": {
      "image/png": "[encoded data removed]",
      "text/plain": [
       "<Figure size 1008x576 with 1 Axes>"
      ]
     },
     "metadata": {
      "needs_background": "light"
     },
     "output_type": "display_data"
    }
   ],
   "source": [
    "fig,ax = plt.subplots(figsize=(14,8))\n",
    "sns.barplot(data = movies, x='Movie_release_date', y='Wikipedia_movie_ID',estimator=len, ax=ax)\n",
    "plt.xticks([i for i in range(0,xmax+1-xmin,3)],rotation=90)\n",
    "#plt.xticks(rotation=90)\n",
    "plt.yscale('log')\n",
    "plt.title('Evolution of number of films per year (log-linear)')"
   ]
  },
  {
   "cell_type": "markdown",
   "metadata": {},
   "source": [
    "Indeed, there was only one film in 1915, and not a lot around 1921. Only the \"best films\" of the epoch must have been registered in the dataset.\n",
    "\n",
    "Now let us see the evolution of the median revenue per film."
   ]
  },
  {
   "cell_type": "code",
   "execution_count": 131,
   "metadata": {},
   "outputs": [
    {
     "data": {
      "text/plain": [
       "Text(0.5, 1.0, 'Evolution of median revenue per film (log-linear)')"
      ]
     },
     "execution_count": 131,
     "metadata": {},
     "output_type": "execute_result"
    },
    {
     "data": {
      "image/png": "[encoded data removed]",
      "text/plain": [
       "<Figure size 1152x720 with 1 Axes>"
      ]
     },
     "metadata": {
      "needs_background": "light"
     },
     "output_type": "display_data"
    }
   ],
   "source": [
    "movies_by_year = movies.groupby('Movie_release_date')\n",
    "movies_by_year_count = movies_by_year.agg('count')\n",
    "movies_by_year_median = movies_by_year.agg('median',numeric_only=True)\n",
    "fig,ax = plt.subplots(figsize=(16,10))\n",
    "sns.barplot(x=movies_by_year_median.index, y=movies_by_year_median.Movie_box_office_revenue/movies_by_year_count.Movie_box_office_revenue, ax=ax)\n",
    "plt.xticks([i for i in range(0,xmax+1-xmin,3)],rotation=90)\n",
    "plt.yscale('log')\n",
    "plt.title('Evolution of median revenue per film (log-linear)')"
   ]
  },
  {
   "cell_type": "markdown",
   "metadata": {},
   "source": [
    "If we do not take in to account the first few years with very little number of films, iIt appears (not conclusive yet, but just an intuition with the plot) that the median revenue per film is \"relatively constant\" compared to the median revenue. There was a drop around the 50's (missing data or real effect ?), and a little decrease since 1980."
   ]
  },
  {
   "cell_type": "markdown",
   "metadata": {},
   "source": [
    "### What about the genres ?"
   ]
  },
  {
   "cell_type": "markdown",
   "metadata": {},
   "source": [
    "How many movies do we have per genre ?"
   ]
  },
  {
   "cell_type": "code",
   "execution_count": 139,
   "metadata": {},
   "outputs": [
    {
     "data": {
      "text/plain": [
       "[('Drama', 34007),\n",
       " ('Comedy', 16349),\n",
       " ('Romance Film', 10234),\n",
       " ('Black-and-white', 9094),\n",
       " ('Action', 8798),\n",
       " ('Thriller', 8744),\n",
       " ('Short Film', 8141),\n",
       " ('World cinema', 7155),\n",
       " ('Crime Fiction', 6948),\n",
       " ('Indie', 6897),\n",
       " ('Documentary', 5630),\n",
       " ('Horror', 5280),\n",
       " ('Silent film', 5250),\n",
       " ('Adventure', 4963),\n",
       " ('Family Film', 4598),\n",
       " ('Action/Adventure', 4561),\n",
       " ('Comedy film', 4362),\n",
       " ('Musical', 4160),\n",
       " ('Animation', 3534),\n",
       " ('Romantic drama', 3372),\n",
       " ('Mystery', 3195),\n",
       " ('Science Fiction', 3052),\n",
       " ('Fantasy', 2820),\n",
       " ('Romantic comedy', 2680),\n",
       " ('War film', 2652),\n",
       " ('Japanese Movies', 2322),\n",
       " ('Western', 2226),\n",
       " ('Crime Thriller', 2122),\n",
       " ('Period piece', 1758),\n",
       " ('Comedy-drama', 1720),\n",
       " ('Film adaptation', 1531),\n",
       " ('Chinese Movies', 1525),\n",
       " ('Biography', 1392),\n",
       " ('Psychological thriller', 1331),\n",
       " ('Bollywood', 1321),\n",
       " ('Sports', 1206),\n",
       " ('Biographical film', 1198),\n",
       " ('LGBT', 1163),\n",
       " ('Music', 1088),\n",
       " ('Family Drama', 1043),\n",
       " ('Black comedy', 1025),\n",
       " ('Parody', 999),\n",
       " ('Television movie', 972),\n",
       " ('Martial Arts Film', 928),\n",
       " (\"Children's/Family\", 926),\n",
       " ('Teen', 925),\n",
       " ('Coming of age', 910),\n",
       " ('History', 888),\n",
       " ('Political drama', 799),\n",
       " ('Slasher', 768),\n",
       " ('Suspense', 759),\n",
       " ('Cult', 759),\n",
       " ('Culture & Society', 751),\n",
       " ('Melodrama', 721),\n",
       " ('Satire', 704),\n",
       " ('Supernatural', 641),\n",
       " ('Biopic [feature]', 635),\n",
       " ('Film noir', 622),\n",
       " ('Slapstick', 617),\n",
       " ('Historical fiction', 606),\n",
       " ('Crime Drama', 563),\n",
       " ('Action Thrillers', 516),\n",
       " (\"Children's\", 508),\n",
       " ('B-movie', 493),\n",
       " ('Costume drama', 485),\n",
       " ('Spy', 474),\n",
       " ('Art film', 464),\n",
       " ('Ensemble Film', 453),\n",
       " ('Anime', 445),\n",
       " ('Gangster Film', 428),\n",
       " ('Docudrama', 420),\n",
       " ('Political cinema', 415),\n",
       " ('Detective', 405),\n",
       " ('Creature Film', 387),\n",
       " ('Buddy film', 372),\n",
       " ('Gay Themed', 357),\n",
       " ('Filipino Movies', 346),\n",
       " ('Road movie', 343),\n",
       " ('Detective fiction', 340),\n",
       " ('Sex comedy', 323),\n",
       " ('Social issues', 320),\n",
       " ('Historical drama', 317),\n",
       " ('Pornographic movie', 317),\n",
       " ('Erotica', 316),\n",
       " ('Crime Comedy', 307),\n",
       " ('Superhero movie', 302),\n",
       " ('Concert film', 301),\n",
       " ('Screwball comedy', 299),\n",
       " ('Gay', 289),\n",
       " ('Disaster', 287),\n",
       " ('Gay Interest', 287),\n",
       " (\"Children's Fantasy\", 280),\n",
       " ('Epic', 278),\n",
       " ('Zombie Film', 274),\n",
       " ('Comedy of manners', 273),\n",
       " ('Experimental film', 258),\n",
       " ('Family-Oriented Adventure', 244),\n",
       " ('Courtroom Drama', 242),\n",
       " ('Political thriller', 242),\n",
       " ('Horror Comedy', 241),\n",
       " ('Musical comedy', 235),\n",
       " ('Computer Animation', 227),\n",
       " ('Fantasy Comedy', 224),\n",
       " ('Adult', 223),\n",
       " ('Fantasy Adventure', 220),\n",
       " ('Domestic Comedy', 213),\n",
       " ('Propaganda film', 213),\n",
       " ('Erotic thriller', 209),\n",
       " ('Comedy of Errors', 207),\n",
       " ('Rockumentary', 193),\n",
       " ('Musical Drama', 192),\n",
       " ('Marriage Drama', 190),\n",
       " ('Avant-garde', 190),\n",
       " ('Monster movie', 189),\n",
       " ('Animal Picture', 183),\n",
       " ('Pre-Code', 180),\n",
       " ('Natural horror films', 175),\n",
       " ('Heist', 174),\n",
       " ('Mockumentary', 173),\n",
       " ('Stop motion', 173),\n",
       " ('Action Comedy', 169),\n",
       " ('Christian film', 160),\n",
       " ('Erotic Drama', 156),\n",
       " ('Surrealism', 156),\n",
       " ('Childhood Drama', 148),\n",
       " ('Adventure Comedy', 144),\n",
       " ('Sci-Fi Horror', 143),\n",
       " ('Spaghetti Western', 141),\n",
       " ('Social problem film', 136),\n",
       " ('Prison', 131),\n",
       " ('Swashbuckler films', 127),\n",
       " ('Sexploitation', 126),\n",
       " ('Wuxia', 125),\n",
       " ('Superhero', 125),\n",
       " ('Doomsday film', 122),\n",
       " ('Film', 122),\n",
       " ('Slice of life story', 122),\n",
       " ('Animated cartoon', 122),\n",
       " ('Monster', 118),\n",
       " ('Dance', 116),\n",
       " ('Alien Film', 113),\n",
       " ('Holiday Film', 111),\n",
       " ('Chase Movie', 110),\n",
       " ('Caper story', 109),\n",
       " ('Blaxploitation', 107),\n",
       " ('Americana', 107),\n",
       " ('Costume Adventure', 106),\n",
       " ('Historical Epic', 103),\n",
       " ('Political satire', 102),\n",
       " ('Combat Films', 101),\n",
       " ('Tragedy', 101),\n",
       " ('Feminist Film', 99),\n",
       " ('Workplace Comedy', 97),\n",
       " ('Dystopia', 95),\n",
       " ('Christmas movie', 93),\n",
       " ('Stand-up comedy', 93),\n",
       " ('Absurdism', 92),\n",
       " ('Comedy Thriller', 91),\n",
       " ('Remake', 89),\n",
       " ('New Hollywood', 88),\n",
       " ('Time travel', 88),\n",
       " ('Media Satire', 88),\n",
       " ('Law & Crime', 85),\n",
       " ('Film & Television History', 80),\n",
       " ('Whodunit', 80),\n",
       " ('Hip hop movies', 80),\n",
       " ('Medical fiction', 79),\n",
       " ('Jungle Film', 79),\n",
       " ('Auto racing', 78),\n",
       " ('Boxing', 77),\n",
       " ('Gender Issues', 76),\n",
       " ('Haunted House Film', 76),\n",
       " ('Gothic Film', 73),\n",
       " ('Gay pornography', 73),\n",
       " ('Religious Film', 73),\n",
       " ('Comedy Western', 72),\n",
       " ('Romantic fantasy', 72),\n",
       " ('Revisionist Western', 69),\n",
       " ('Punk rock', 68),\n",
       " ('Tamil cinema', 67),\n",
       " ('Softcore Porn', 66),\n",
       " ('Nature', 65),\n",
       " ('Fairy tale', 64),\n",
       " ('B-Western', 63),\n",
       " ('Costume Horror', 62),\n",
       " ('Tragicomedy', 61),\n",
       " ('Addiction Drama', 61),\n",
       " ('Neo-noir', 60),\n",
       " ('Juvenile Delinquency Film', 59),\n",
       " ('Gross-out film', 58),\n",
       " ('Gross out', 58),\n",
       " ('Escape Film', 56),\n",
       " ('Airplanes and airports', 56),\n",
       " ('Illnesses & Disabilities', 55),\n",
       " ('Animated Musical', 54),\n",
       " ('Stoner film', 52),\n",
       " ('Travel', 52),\n",
       " ('Interpersonal Relationships', 52),\n",
       " ('Sword and sorcery', 51),\n",
       " ('Glamorized Spy Film', 50),\n",
       " ('Animals', 49),\n",
       " ('Tollywood', 48),\n",
       " ('Crime', 48),\n",
       " ('Samurai cinema', 44),\n",
       " ('Roadshow theatrical release', 43),\n",
       " ('Sword and sorcery films', 43),\n",
       " ('Anti-war', 42),\n",
       " ('Anti-war film', 41),\n",
       " ('Fan film', 39),\n",
       " ('Educational', 39),\n",
       " ('Hybrid Western', 37),\n",
       " ('Existentialism', 36),\n",
       " ('Inspirational Drama', 36),\n",
       " ('Giallo', 35),\n",
       " ('Apocalyptic and post-apocalyptic fiction', 35),\n",
       " ('Media Studies', 35),\n",
       " ('Steampunk', 35),\n",
       " ('Film \\\\u00e0 clef', 34),\n",
       " ('Sci-Fi Adventure', 34),\n",
       " ('Environmental Science', 34),\n",
       " ('Mythological Fantasy', 34),\n",
       " ('Future noir', 33),\n",
       " ('Pinku eiga', 33),\n",
       " ('Extreme Sports', 32),\n",
       " ('Heavenly Comedy', 31),\n",
       " ('Graphic & Applied Arts', 31),\n",
       " ('Splatter film', 31),\n",
       " ('Master Criminal Films', 31),\n",
       " ('Language & Literature', 29),\n",
       " ('Comedy horror', 28),\n",
       " ('Dogme 95', 28),\n",
       " ('Hagiography', 27),\n",
       " ('Sword and Sandal', 27),\n",
       " ('Backstage Musical', 26),\n",
       " ('Essay Film', 26),\n",
       " ('Indian Western', 26),\n",
       " ('Biker Film', 25),\n",
       " ('British Empire Film', 25),\n",
       " ('Instrumental Music', 25),\n",
       " ('Exploitation', 24),\n",
       " ('Heaven-Can-Wait Fantasies', 24),\n",
       " ('Northern', 23),\n",
       " ('Road-Horror', 21),\n",
       " ('Beach Film', 21),\n",
       " ('World History', 21),\n",
       " (\"Children's Entertainment\", 20),\n",
       " ('Fantasy Drama', 20),\n",
       " ('Epic Western', 18),\n",
       " ('Movie serial', 18),\n",
       " ('Outlaw biker film', 18),\n",
       " ('Women in prison films', 17),\n",
       " ('Pornography', 17),\n",
       " ('Albino bias', 17),\n",
       " ('Family & Personal Relationships', 17),\n",
       " ('Kitchen sink realism', 16),\n",
       " ('Bengali Cinema', 16),\n",
       " ('News', 16),\n",
       " ('Buddy cop', 15),\n",
       " ('Natural disaster', 15),\n",
       " ('Anthropology', 15),\n",
       " ('Cavalry Film', 15),\n",
       " ('Inventions & Innovations', 15),\n",
       " ('Psycho-biddy', 15),\n",
       " ('Health & Fitness', 15),\n",
       " ('Ealing Comedies', 15),\n",
       " ('Anthology', 14),\n",
       " ('British New Wave', 14),\n",
       " ('Feature film', 14),\n",
       " ('Horse racing', 14),\n",
       " ('Space western', 13),\n",
       " ('Malayalam Cinema', 13),\n",
       " ('Business', 13),\n",
       " ('Mondo film', 13),\n",
       " ('Prison film', 13),\n",
       " ('Filipino', 12),\n",
       " ('Cold War', 11),\n",
       " ('Archaeology', 10),\n",
       " ('Hardcore pornography', 10),\n",
       " ('Mumblecore', 10),\n",
       " ('Foreign legion', 10),\n",
       " ('Baseball', 10),\n",
       " ('Czechoslovak New Wave', 9),\n",
       " ('Journalism', 9),\n",
       " ('Fictional film', 9),\n",
       " ('Reboot', 9),\n",
       " ('Acid western', 9),\n",
       " ('Legal drama', 8),\n",
       " ('Early Black Cinema', 8),\n",
       " ('Sponsored film', 8),\n",
       " ('Jukebox musical', 8),\n",
       " ('Computers', 8),\n",
       " ('Archives and records', 8),\n",
       " ('Education', 8),\n",
       " ('Filmed Play', 7),\n",
       " ('Historical Documentaries', 7),\n",
       " ('Race movie', 7),\n",
       " ('Gulf War', 6),\n",
       " ('Demonic child', 6),\n",
       " ('Latino', 6),\n",
       " ('Alien invasion', 6),\n",
       " ('Finance & Investing', 6),\n",
       " ('Movies About Gladiators', 6),\n",
       " ('Science fiction Western', 6),\n",
       " ('Bloopers & Candid Camera', 6),\n",
       " ('Courtroom Comedy', 6),\n",
       " ('Parkour in popular culture', 6),\n",
       " ('Cyberpunk', 6),\n",
       " ('Clay animation', 6),\n",
       " ('Kafkaesque', 6),\n",
       " ('Plague', 5),\n",
       " ('Space opera', 5),\n",
       " ('Libraries and librarians', 5),\n",
       " ('Roadshow/Carny', 5),\n",
       " ('Film-Opera', 5),\n",
       " (\"Children's Issues\", 5),\n",
       " ('Psychological horror', 5),\n",
       " ('Sci-Fi Thriller', 5),\n",
       " ('Operetta', 5),\n",
       " ('Coming-of-age film', 5),\n",
       " ('Female buddy film', 5),\n",
       " ('School story', 5),\n",
       " ('Sci Fi Pictures original films', 5),\n",
       " ('Outlaw', 5),\n",
       " ('Singing cowboy', 5),\n",
       " ('Tokusatsu', 4),\n",
       " ('Humour', 4),\n",
       " ('Werewolf fiction', 4),\n",
       " ('Live action', 4),\n",
       " ('Bruceploitation', 4),\n",
       " ('Goat gland', 4),\n",
       " ('Therimin music', 4),\n",
       " ('Expressionism', 3),\n",
       " ('Camp', 3),\n",
       " ('Nuclear warfare', 3),\n",
       " ('Z movie', 3),\n",
       " ('Supermarionation', 3),\n",
       " ('Vampire movies', 3),\n",
       " ('Point of view shot', 3),\n",
       " ('Star vehicle', 2),\n",
       " ('Revenge', 2),\n",
       " ('Conspiracy fiction', 2),\n",
       " ('Private military company', 2),\n",
       " ('Prison escape', 2),\n",
       " ('Period Horror', 2),\n",
       " ('Political Documetary', 2),\n",
       " ('Beach Party film', 2),\n",
       " ('Patriotic film', 2),\n",
       " ('Ninja movie', 2),\n",
       " ('The Netherlands in World War II', 2),\n",
       " ('Revisionist Fairy Tale', 2),\n",
       " ('C-Movie', 1),\n",
       " ('Linguistics', 1),\n",
       " ('Comdedy', 1),\n",
       " ('Silhouette animation', 1),\n",
       " ('Breakdance', 1),\n",
       " ('War effort', 1),\n",
       " ('Romantic thriller', 1),\n",
       " ('Chick flick', 1),\n",
       " ('Buddy Picture', 1),\n",
       " ('Statutory rape', 1),\n",
       " ('New Queer Cinema', 1),\n",
       " ('Neorealism', 1),\n",
       " ('Homoeroticism', 1)]"
      ]
     },
     "execution_count": 139,
     "metadata": {},
     "output_type": "execute_result"
    }
   ],
   "source": [
    "genres ={}\n",
    "for i in movies_nodrop.Movie_genres:\n",
    "    for j in i:\n",
    "        if j not in genres:\n",
    "            genres[j] = 1\n",
    "        else:\n",
    "            genres[j]+=1\n",
    "sorted_genres = sorted(genres.items(), key=lambda x:x[1],reverse=True)\n",
    "sorted_genres"
   ]
  },
  {
   "cell_type": "code",
   "execution_count": 165,
   "metadata": {},
   "outputs": [],
   "source": [
    "main_genres = [elt[0] for elt in sorted_genres[:25]] #completely arbitrary\n",
    "revenue_per_genre = {}\n",
    "for genre in main_genres:\n",
    "    count = 0\n",
    "    revenues = []\n",
    "    for index,row in movies.iterrows():\n",
    "        if genre in row.Movie_genres:\n",
    "            revenues.append(row.Movie_box_office_revenue)\n",
    "    revenue_per_genre[genre] = sorted(revenues)[int(len(revenues)/2)]"
   ]
  },
  {
   "cell_type": "code",
   "execution_count": 184,
   "metadata": {},
   "outputs": [],
   "source": [
    "df_revenue_per_genre = pd.DataFrame.from_dict(revenue_per_genre, orient ='index')\n",
    "df_revenue_per_genre.rename(columns={0:'Revenue'},inplace=True)\n",
    "#df_revenue_per_genre.sort_values(by='Revenue',inplace=True,ascending=False)"
   ]
  },
  {
   "cell_type": "code",
   "execution_count": 185,
   "metadata": {},
   "outputs": [
    {
     "data": {
      "text/plain": [
       "Text(0.5, 1.0, 'Median revenue per genre (log scale)')"
      ]
     },
     "execution_count": 185,
     "metadata": {},
     "output_type": "execute_result"
    },
    {
     "data": {
      "image/png": "[encoded data removed]",
      "text/plain": [
       "<Figure size 864x576 with 1 Axes>"
      ]
     },
     "metadata": {
      "needs_background": "light"
     },
     "output_type": "display_data"
    }
   ],
   "source": [
    "fig,ax = plt.subplots(figsize=(12,8))\n",
    "sns.barplot(df_revenue_per_genre,x=df_revenue_per_genre.index,y='Revenue')\n",
    "plt.xticks(rotation=90)\n",
    "plt.yscale('log')\n",
    "plt.title('Median revenue per genre (log scale)')"
   ]
  },
  {
   "cell_type": "markdown",
   "metadata": {},
   "source": [
    "We can see that the number of films per genre do not seem to be correlated with the revenue of the film. But to be conclusive we will have to be careful about the number of genres per film (e.g if 'Drama' is always cited as a genre with 4 other genres, then the film might not be a pure Drama), and other counfounders."
   ]
  },
  {
   "cell_type": "markdown",
   "metadata": {},
   "source": [
    "## Characters"
   ]
  },
  {
   "cell_type": "markdown",
   "metadata": {},
   "source": [
    "Now let us have a look at the characters dataset."
   ]
  },
  {
   "cell_type": "code",
   "execution_count": null,
   "metadata": {},
   "outputs": [],
   "source": []
  }
 ],
 "metadata": {
  "kernelspec": {
   "display_name": "Python 3",
   "language": "python",
   "name": "python3"
  },
  "language_info": {
   "codemirror_mode": {
    "name": "ipython",
    "version": 3
   },
   "file_extension": ".py",
   "mimetype": "text/x-python",
   "name": "python",
   "nbconvert_exporter": "python",
   "pygments_lexer": "ipython3",
   "version": "3.8.3"
  }
 },
 "nbformat": 4,
 "nbformat_minor": 4
}
