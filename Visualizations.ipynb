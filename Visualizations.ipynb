{
 "cells": [
  {
   "cell_type": "markdown",
   "metadata": {},
   "source": [
    "This notebook contains the final graphs and visualizations we want to put on our Data Story website."
   ]
  },
  {
   "cell_type": "markdown",
   "metadata": {},
   "source": [
    "### Import libraries and data"
   ]
  },
  {
   "cell_type": "code",
   "execution_count": 1,
   "metadata": {},
   "outputs": [],
   "source": [
    "import pandas as pd\n",
    "import numpy as np\n",
    "import seaborn as sns\n",
    "import matplotlib.pyplot as plt\n",
    "import plotly.express as px\n",
    "import plotly.graph_objects as go\n",
    "import csv\n",
    "import pickle\n",
    "import networkx as nx\n",
    "import statsmodels.formula.api as smf\n",
    "from scipy.stats import sem\n",
    "%matplotlib inline"
   ]
  },
  {
   "cell_type": "code",
   "execution_count": 2,
   "metadata": {},
   "outputs": [],
   "source": [
    "#File and folder names\n",
    "DATA_FOLDER = 'Data/'\n",
    "CHARACTER_DATASET = DATA_FOLDER + 'characters.pkl'\n",
    "MOVIE_DATASET = DATA_FOLDER + 'movies.pkl'\n",
    "ALL_DATASETS = DATA_FOLDER + 'merge_all.pkl'"
   ]
  },
  {
   "cell_type": "code",
   "execution_count": 3,
   "metadata": {},
   "outputs": [],
   "source": [
    "#Read pickles\n",
    "characters = pd.read_pickle(CHARACTER_DATASET)\n",
    "movies = pd.read_pickle(MOVIE_DATASET)\n",
    "df_all = pd.read_pickle(ALL_DATASETS)"
   ]
  },
  {
   "cell_type": "code",
   "execution_count": 26,
   "metadata": {},
   "outputs": [],
   "source": [
    "#For matching study\n",
    "G = nx.read_gpickle(\"Data/matching_1.gpickle\")"
   ]
  },
  {
   "cell_type": "code",
   "execution_count": 4,
   "metadata": {},
   "outputs": [],
   "source": [
    "def col_to_year_fmt(df,col_name):\n",
    "    '''change format of column col_name of dataframe df to datetime year format'''\n",
    "    df[col_name] = pd.to_datetime(df[col_name],format='%Y').dt.year\n",
    "\n",
    "col_to_year_fmt(movies,'Movie_release_date')\n",
    "col_to_year_fmt(df_all,'Movie_release_date')\n",
    "col_to_year_fmt(characters,'Movie_release_date')\n",
    "col_to_year_fmt(characters,'Actor_date_of_birth')\n",
    "\n",
    "# Drop useless columns\n",
    "movies.drop(['Movie_runtime'],axis=1, inplace=True)\n",
    "df_all.drop(['Movie_runtime'],axis=1, inplace=True)\n",
    "\n",
    "# Drop NaN\n",
    "characters = characters.dropna()\n",
    "movies = movies.dropna()"
   ]
  },
  {
   "cell_type": "code",
   "execution_count": 5,
   "metadata": {},
   "outputs": [],
   "source": [
    "#Access the log of revenue with log_revenue, log of budget with log_budget\n",
    "def add_log(df,col,new_col):\n",
    "    '''add the column new_col to the dataframe df, containing the log10 of column col'''\n",
    "    df[new_col] = df[col].apply(np.log10)\n",
    "\n",
    "add_log(movies,'Movie_box_office_revenue','log_revenue')\n",
    "add_log(df_all,'Movie_box_office_revenue','log_revenue')\n",
    "add_log(df_all,'budget','log_budget')"
   ]
  },
  {
   "cell_type": "code",
   "execution_count": 6,
   "metadata": {
    "scrolled": true
   },
   "outputs": [
    {
     "data": {
      "text/html": [
       "<div>\n",
       "<style scoped>\n",
       "    .dataframe tbody tr th:only-of-type {\n",
       "        vertical-align: middle;\n",
       "    }\n",
       "\n",
       "    .dataframe tbody tr th {\n",
       "        vertical-align: top;\n",
       "    }\n",
       "\n",
       "    .dataframe thead th {\n",
       "        text-align: right;\n",
       "    }\n",
       "</style>\n",
       "<table border=\"1\" class=\"dataframe\">\n",
       "  <thead>\n",
       "    <tr style=\"text-align: right;\">\n",
       "      <th></th>\n",
       "      <th>Wikipedia_movie_ID</th>\n",
       "      <th>Freebase_movie_ID</th>\n",
       "      <th>Movie_release_date</th>\n",
       "      <th>Character_name</th>\n",
       "      <th>Actor_date_of_birth</th>\n",
       "      <th>Actor_gender</th>\n",
       "      <th>Actor_height_meters</th>\n",
       "      <th>Actor_ethnicity_Freebase_ID</th>\n",
       "      <th>Actor_name</th>\n",
       "      <th>Actor_age_at_movie_release</th>\n",
       "      <th>Freebase_character_actor_map_ID</th>\n",
       "      <th>Freebase_character_ID</th>\n",
       "      <th>Freebase_actor_ID</th>\n",
       "    </tr>\n",
       "  </thead>\n",
       "  <tbody>\n",
       "    <tr>\n",
       "      <th>1</th>\n",
       "      <td>975900</td>\n",
       "      <td>/m/03vyhn</td>\n",
       "      <td>2001.0</td>\n",
       "      <td>Lieutenant Melanie Ballard</td>\n",
       "      <td>1974.0</td>\n",
       "      <td>1</td>\n",
       "      <td>1.78</td>\n",
       "      <td>/m/044038p</td>\n",
       "      <td>Natasha Henstridge</td>\n",
       "      <td>27.0</td>\n",
       "      <td>/m/0jys3m</td>\n",
       "      <td>/m/0bgchn4</td>\n",
       "      <td>/m/0346l4</td>\n",
       "    </tr>\n",
       "    <tr>\n",
       "      <th>2</th>\n",
       "      <td>975900</td>\n",
       "      <td>/m/03vyhn</td>\n",
       "      <td>2001.0</td>\n",
       "      <td>Desolation Williams</td>\n",
       "      <td>1969.0</td>\n",
       "      <td>0</td>\n",
       "      <td>1.727</td>\n",
       "      <td>/m/0x67</td>\n",
       "      <td>Ice Cube</td>\n",
       "      <td>32.0</td>\n",
       "      <td>/m/0jys3g</td>\n",
       "      <td>/m/0bgchn_</td>\n",
       "      <td>/m/01vw26l</td>\n",
       "    </tr>\n",
       "    <tr>\n",
       "      <th>5</th>\n",
       "      <td>975900</td>\n",
       "      <td>/m/03vyhn</td>\n",
       "      <td>2001.0</td>\n",
       "      <td>Commander Helena Braddock</td>\n",
       "      <td>1949.0</td>\n",
       "      <td>1</td>\n",
       "      <td>1.727</td>\n",
       "      <td>/m/0x67</td>\n",
       "      <td>Pam Grier</td>\n",
       "      <td>52.0</td>\n",
       "      <td>/m/02vdcfp</td>\n",
       "      <td>/m/0bgchnd</td>\n",
       "      <td>/m/0418ft</td>\n",
       "    </tr>\n",
       "    <tr>\n",
       "      <th>56</th>\n",
       "      <td>2314463</td>\n",
       "      <td>/m/0734w5</td>\n",
       "      <td>2006.0</td>\n",
       "      <td>Taper Guy</td>\n",
       "      <td>1971.0</td>\n",
       "      <td>0</td>\n",
       "      <td>1.87</td>\n",
       "      <td>/m/033tf_</td>\n",
       "      <td>Matt Stone</td>\n",
       "      <td>34.0</td>\n",
       "      <td>/m/0cgn0lx</td>\n",
       "      <td>/m/0h0z488</td>\n",
       "      <td>/m/01_x6d</td>\n",
       "    </tr>\n",
       "    <tr>\n",
       "      <th>76</th>\n",
       "      <td>612710</td>\n",
       "      <td>/m/02wjqm</td>\n",
       "      <td>1999.0</td>\n",
       "      <td>Sandii</td>\n",
       "      <td>1975.0</td>\n",
       "      <td>1</td>\n",
       "      <td>1.68</td>\n",
       "      <td>/m/0222qb</td>\n",
       "      <td>Asia Argento</td>\n",
       "      <td>24.0</td>\n",
       "      <td>/m/02vcxk_</td>\n",
       "      <td>/m/0h2l6rx</td>\n",
       "      <td>/m/028pzq</td>\n",
       "    </tr>\n",
       "  </tbody>\n",
       "</table>\n",
       "</div>"
      ],
      "text/plain": [
       "   Wikipedia_movie_ID Freebase_movie_ID  Movie_release_date  \\\n",
       "1              975900         /m/03vyhn              2001.0   \n",
       "2              975900         /m/03vyhn              2001.0   \n",
       "5              975900         /m/03vyhn              2001.0   \n",
       "56            2314463         /m/0734w5              2006.0   \n",
       "76             612710         /m/02wjqm              1999.0   \n",
       "\n",
       "                Character_name  Actor_date_of_birth  Actor_gender  \\\n",
       "1   Lieutenant Melanie Ballard               1974.0             1   \n",
       "2          Desolation Williams               1969.0             0   \n",
       "5    Commander Helena Braddock               1949.0             1   \n",
       "56                   Taper Guy               1971.0             0   \n",
       "76                      Sandii               1975.0             1   \n",
       "\n",
       "   Actor_height_meters Actor_ethnicity_Freebase_ID          Actor_name  \\\n",
       "1                 1.78                  /m/044038p  Natasha Henstridge   \n",
       "2                1.727                     /m/0x67            Ice Cube   \n",
       "5                1.727                     /m/0x67           Pam Grier   \n",
       "56                1.87                   /m/033tf_          Matt Stone   \n",
       "76                1.68                   /m/0222qb        Asia Argento   \n",
       "\n",
       "   Actor_age_at_movie_release Freebase_character_actor_map_ID  \\\n",
       "1                        27.0                       /m/0jys3m   \n",
       "2                        32.0                       /m/0jys3g   \n",
       "5                        52.0                      /m/02vdcfp   \n",
       "56                       34.0                      /m/0cgn0lx   \n",
       "76                       24.0                      /m/02vcxk_   \n",
       "\n",
       "   Freebase_character_ID Freebase_actor_ID  \n",
       "1             /m/0bgchn4         /m/0346l4  \n",
       "2             /m/0bgchn_        /m/01vw26l  \n",
       "5             /m/0bgchnd         /m/0418ft  \n",
       "56            /m/0h0z488         /m/01_x6d  \n",
       "76            /m/0h2l6rx         /m/028pzq  "
      ]
     },
     "execution_count": 6,
     "metadata": {},
     "output_type": "execute_result"
    }
   ],
   "source": [
    "characters.Actor_gender = (characters.Actor_gender=='F').apply(int)\n",
    "characters.head()"
   ]
  },
  {
   "cell_type": "markdown",
   "metadata": {},
   "source": [
    "### Visualizations\n",
    "#### Evolution of fraction of female actors over time"
   ]
  },
  {
   "cell_type": "code",
   "execution_count": 72,
   "metadata": {},
   "outputs": [],
   "source": [
    "SAVE_FIG = False #False to not save again figures in the Images folder, True if we want to update the figure"
   ]
  },
  {
   "cell_type": "code",
   "execution_count": 70,
   "metadata": {
    "scrolled": true
   },
   "outputs": [
    {
     "data": {
      "image/png": "[encoded data removed]",
      "text/plain": [
       "<Figure size 720x360 with 1 Axes>"
      ]
     },
     "metadata": {
      "needs_background": "light"
     },
     "output_type": "display_data"
    }
   ],
   "source": [
    "fig,ax = plt.subplots(figsize=(10,5))\n",
    "sns.lineplot(data = characters, x=characters.Movie_release_date[characters.Movie_release_date > 1929][characters.Movie_release_date < 2013], y='Actor_gender', ax=ax, label='Fraction of Female Actors', color='hotpink')\n",
    "plt.hlines(0.5,1920,2020,color='black',linestyle='--',label='50% Female Actors')\n",
    "plt.xlim([1930, 2012]) #remove data from 1915-1930 because there are not enough movies\n",
    "plt.xlabel('Movie Release Date')\n",
    "plt.ylim([0, 1])\n",
    "plt.ylabel('Fraction of Actor Gender')\n",
    "#plt.grid(visible=True, axis='y')\n",
    "plt.xticks(rotation=90)\n",
    "plt.title('Evolution of the Fraction of Female Actors in Movies over Time')\n",
    "plt.legend()\n",
    "\n",
    "if SAVE_FIG:\n",
    "    plt.savefig('Images/Female_actors_over_time.png')"
   ]
  },
  {
   "cell_type": "markdown",
   "metadata": {},
   "source": [
    "#### Age and Gender gap"
   ]
  },
  {
   "cell_type": "code",
   "execution_count": 71,
   "metadata": {},
   "outputs": [
    {
     "data": {
      "image/png": "[encoded data removed]",
      "text/plain": [
       "<Figure size 1008x576 with 1 Axes>"
      ]
     },
     "metadata": {
      "needs_background": "light"
     },
     "output_type": "display_data"
    }
   ],
   "source": [
    "fig, ax = plt.subplots(figsize=(14,8), constrained_layout=True)\n",
    "colors = [\"#4374B3\", \"#FF69B4\"] #4374B3= blue, #FF69B4= hotpink\n",
    "#Set your custom color palette\n",
    "sns.set_palette(sns.color_palette(colors))\n",
    "sns.lineplot(data = characters, x=characters.Movie_release_date, y='Actor_age_at_movie_release',hue='Actor_gender',\n",
    "             ax=ax, legend= False)\n",
    "plt.xlim([1930, 2012])\n",
    "plt.xlabel('Movie Release Date')\n",
    "plt.ylabel('Actor Age at Movie Release')\n",
    "plt.ylim(0,80)\n",
    "plt.legend(title='Actor Gender', loc='upper right', labels=['Male', 'Female'])\n",
    "plt.title('Evolution of Median Age of Actors among Genders')\n",
    "\n",
    "if SAVE_FIG:\n",
    "    plt.savefig('Images/actors_age_over_time.png')"
   ]
  },
  {
   "cell_type": "markdown",
   "metadata": {},
   "source": [
    "### Movie Genres"
   ]
  },
  {
   "cell_type": "markdown",
   "metadata": {},
   "source": [
    "Datasets:\n",
    "- df_gender contains the number of male/female actors per film, and the percentage of females\n",
    "- df_gender_eng is the same, filtered on American movies, in English or Amercian\n",
    "- movies_treat/movies_control are the 2 dataframes containing the data of df_all before the matching, for each group (and American films, in English/American)\n",
    "- df_match contains all the films that have been matched. It contains a column 'group' which equald 'treat' if the film is in the treated group, 'control' otherwise (simple to make graphs: use hue='group')\n",
    "- df_before_match contains all films in USA in English or American. It has the same columns as df_match."
   ]
  },
  {
   "cell_type": "code",
   "execution_count": 18,
   "metadata": {},
   "outputs": [
    {
     "data": {
      "text/html": [
       "<div>\n",
       "<style scoped>\n",
       "    .dataframe tbody tr th:only-of-type {\n",
       "        vertical-align: middle;\n",
       "    }\n",
       "\n",
       "    .dataframe tbody tr th {\n",
       "        vertical-align: top;\n",
       "    }\n",
       "\n",
       "    .dataframe thead th {\n",
       "        text-align: right;\n",
       "    }\n",
       "</style>\n",
       "<table border=\"1\" class=\"dataframe\">\n",
       "  <thead>\n",
       "    <tr style=\"text-align: right;\">\n",
       "      <th></th>\n",
       "      <th>nb_f</th>\n",
       "      <th>nb_m</th>\n",
       "      <th>ratio</th>\n",
       "    </tr>\n",
       "    <tr>\n",
       "      <th>Wikipedia_movie_ID</th>\n",
       "      <th></th>\n",
       "      <th></th>\n",
       "      <th></th>\n",
       "    </tr>\n",
       "  </thead>\n",
       "  <tbody>\n",
       "    <tr>\n",
       "      <th>3217</th>\n",
       "      <td>2</td>\n",
       "      <td>0</td>\n",
       "      <td>100.000000</td>\n",
       "    </tr>\n",
       "    <tr>\n",
       "      <th>3746</th>\n",
       "      <td>0</td>\n",
       "      <td>3</td>\n",
       "      <td>0.000000</td>\n",
       "    </tr>\n",
       "    <tr>\n",
       "      <th>3837</th>\n",
       "      <td>1</td>\n",
       "      <td>5</td>\n",
       "      <td>16.666667</td>\n",
       "    </tr>\n",
       "    <tr>\n",
       "      <th>4227</th>\n",
       "      <td>0</td>\n",
       "      <td>1</td>\n",
       "      <td>0.000000</td>\n",
       "    </tr>\n",
       "    <tr>\n",
       "      <th>4231</th>\n",
       "      <td>3</td>\n",
       "      <td>5</td>\n",
       "      <td>37.500000</td>\n",
       "    </tr>\n",
       "  </tbody>\n",
       "</table>\n",
       "</div>"
      ],
      "text/plain": [
       "                    nb_f  nb_m       ratio\n",
       "Wikipedia_movie_ID                        \n",
       "3217                   2     0  100.000000\n",
       "3746                   0     3    0.000000\n",
       "3837                   1     5   16.666667\n",
       "4227                   0     1    0.000000\n",
       "4231                   3     5   37.500000"
      ]
     },
     "execution_count": 18,
     "metadata": {},
     "output_type": "execute_result"
    }
   ],
   "source": [
    "# Group by film (wiki id)\n",
    "grouped = characters[['Wikipedia_movie_ID','Actor_gender']].groupby(characters.Wikipedia_movie_ID)\n",
    "# count nb of actor for each gender\n",
    "df_gender = grouped.agg('sum')\n",
    "df_gender['nb_m'] = grouped['Actor_gender'].agg('count').values - grouped['Actor_gender'].agg('sum').values\n",
    "df_gender.rename(columns = {'Actor_gender':'nb_f'}, inplace = True)\n",
    "# compute the percentage of female actress for each film\n",
    "df_gender['ratio'] = df_gender['nb_f']/(df_gender['nb_f']+df_gender['nb_m'])*100\n",
    "global_mean = df_gender.ratio.mean()\n",
    "df_gender.head()"
   ]
  },
  {
   "cell_type": "code",
   "execution_count": 19,
   "metadata": {},
   "outputs": [
    {
     "data": {
      "text/html": [
       "<div>\n",
       "<style scoped>\n",
       "    .dataframe tbody tr th:only-of-type {\n",
       "        vertical-align: middle;\n",
       "    }\n",
       "\n",
       "    .dataframe tbody tr th {\n",
       "        vertical-align: top;\n",
       "    }\n",
       "\n",
       "    .dataframe thead th {\n",
       "        text-align: right;\n",
       "    }\n",
       "</style>\n",
       "<table border=\"1\" class=\"dataframe\">\n",
       "  <thead>\n",
       "    <tr style=\"text-align: right;\">\n",
       "      <th></th>\n",
       "      <th>0</th>\n",
       "      <th>1</th>\n",
       "      <th>ratio</th>\n",
       "    </tr>\n",
       "  </thead>\n",
       "  <tbody>\n",
       "    <tr>\n",
       "      <th>Hardcore pornography</th>\n",
       "      <td>0</td>\n",
       "      <td>1</td>\n",
       "      <td>100.0</td>\n",
       "    </tr>\n",
       "    <tr>\n",
       "      <th>Breakdance</th>\n",
       "      <td>0</td>\n",
       "      <td>1</td>\n",
       "      <td>100.0</td>\n",
       "    </tr>\n",
       "    <tr>\n",
       "      <th>Filipino Movies</th>\n",
       "      <td>0</td>\n",
       "      <td>1</td>\n",
       "      <td>100.0</td>\n",
       "    </tr>\n",
       "    <tr>\n",
       "      <th>Women in prison films</th>\n",
       "      <td>0</td>\n",
       "      <td>2</td>\n",
       "      <td>100.0</td>\n",
       "    </tr>\n",
       "  </tbody>\n",
       "</table>\n",
       "</div>"
      ],
      "text/plain": [
       "                       0  1  ratio\n",
       "Hardcore pornography   0  1  100.0\n",
       "Breakdance             0  1  100.0\n",
       "Filipino Movies        0  1  100.0\n",
       "Women in prison films  0  2  100.0"
      ]
     },
     "execution_count": 19,
     "metadata": {},
     "output_type": "execute_result"
    }
   ],
   "source": [
    "# dictionnary computing the number of female and male actors for each gender\n",
    "gender_per_genre ={}\n",
    "# iteration over the films\n",
    "for idx,row in movies.iterrows():\n",
    "    # get list of genres of the film\n",
    "    genre_list = row.Movie_genres\n",
    "    # if the film is in df_gender, get the nb of female and male actors\n",
    "    try:\n",
    "        nb_f,nb_m = df_gender.loc[row.Wikipedia_movie_ID,'nb_f'],df_gender.loc[row.Wikipedia_movie_ID,'nb_m']\n",
    "    except KeyError:\n",
    "        continue\n",
    "    # for each genre of the film\n",
    "    for g in genre_list:\n",
    "        # update the dictionnary\n",
    "        if g not in gender_per_genre:\n",
    "            gender_per_genre[g] = [nb_m,nb_f]\n",
    "        else:\n",
    "            gender_per_genre[g][0] += nb_m\n",
    "            gender_per_genre[g][1] += nb_f\n",
    "\n",
    "# put this into a dataframe\n",
    "df_gender_per_genre = pd.DataFrame.from_dict(gender_per_genre,orient='index')\n",
    "df_gender_per_genre['ratio'] = df_gender_per_genre[1]/(df_gender_per_genre[0]+df_gender_per_genre[1])*100\n",
    "df_gender_per_genre.sort_values(by='ratio',inplace=True,ascending=False)\n",
    "df_gender_per_genre_lim = df_gender_per_genre[df_gender_per_genre[0]+df_gender_per_genre[1] >= 800]\n",
    "df_gender_per_genre.head(4)"
   ]
  },
  {
   "cell_type": "code",
   "execution_count": 64,
   "metadata": {},
   "outputs": [
    {
     "data": {
      "image/png": "[encoded data removed]",
      "text/plain": [
       "<Figure size 648x432 with 1 Axes>"
      ]
     },
     "metadata": {
      "needs_background": "light"
     },
     "output_type": "display_data"
    }
   ],
   "source": [
    "fig, ax = plt.subplots(figsize=(9, 6), constrained_layout=True)\n",
    "sns.barplot(data=df_gender_per_genre_lim, x=df_gender_per_genre_lim.index, y='ratio')\n",
    "plt.hlines(global_mean,0,len(df_gender_per_genre_lim.index),linestyle='--',color='black',label='Average Percentage of Female Actors')\n",
    "plt.xticks(rotation=80)\n",
    "plt.margins(0.01, 0.125)\n",
    "plt.ylabel('Percentage of Female Actors')\n",
    "plt.title('Percentage of Female Actors per Genre')\n",
    "plt.legend()\n",
    "\n",
    "if SAVE_FIG:\n",
    "    plt.savefig('Images/female_actors_movie_genres.png')"
   ]
  },
  {
   "cell_type": "code",
   "execution_count": 55,
   "metadata": {},
   "outputs": [
    {
     "data": {
      "application/vnd.plotly.v1+json": {
       "config": {
        "plotlyServerURL": "https://plot.ly"
       },
       "data": [
        {
         "alignmentgroup": "True",
         "hovertemplate": "Movie Genre=%{x}<br>Percentage of Female Actors=%{y}<extra></extra>",
         "legendgroup": "",
         "marker": {
          "color": "#FF69B4",
          "pattern": {
           "shape": ""
          }
         },
         "name": "",
         "offsetgroup": "",
         "orientation": "v",
         "showlegend": false,
         "textposition": "auto",
         "type": "bar",
         "x": [
          "Romantic comedy",
          "Romantic drama",
          "Comedy-drama",
          "Romance Film",
          "Teen",
          "Musical",
          "Indie",
          "Coming of age",
          "Horror",
          "Comedy",
          "Psychological thriller",
          "Mystery",
          "Film adaptation",
          "Drama",
          "Black comedy",
          "Fantasy",
          "Family Film",
          "Parody",
          "Biography",
          "Period piece",
          "Animation",
          "Costume drama",
          "Children's/Family",
          "Crime Thriller",
          "Thriller",
          "Science Fiction",
          "Crime Fiction",
          "Buddy film",
          "Adventure",
          "Sports",
          "Action",
          "Action/Adventure",
          "War film"
         ],
         "xaxis": "x",
         "y": [
          45.24224468455908,
          44.866529774127315,
          43.190249072602015,
          43.116516834126564,
          42.8454619787408,
          41.95672624647225,
          41.448140900195696,
          38.86792452830189,
          37.3079287031346,
          37.25706271288319,
          36.6600790513834,
          36.427145708582835,
          36.16273229532898,
          36.11774065234686,
          35.97185576077397,
          34.276618323310934,
          33.35669236159776,
          32.93515358361775,
          32.84848484848485,
          32.44176013805004,
          31.330472103004293,
          30.969267139479907,
          30.916030534351147,
          30.756302521008404,
          30.374280230326296,
          29.053461875547764,
          28.539768529918742,
          28.522727272727273,
          28.234136743728477,
          26.69683257918552,
          25.508253692441357,
          25.45631540520808,
          20.15732546705998
         ],
         "yaxis": "y"
        }
       ],
       "layout": {
        "barmode": "relative",
        "height": 450,
        "legend": {
         "tracegroupgap": 0
        },
        "shapes": [
         {
          "line": {
           "color": "black",
           "dash": "dash"
          },
          "type": "line",
          "x0": 0,
          "x1": 1,
          "xref": "x domain",
          "y0": 39.33,
          "y1": 39.33,
          "yref": "y"
         }
        ],
        "template": {
         "data": {
          "bar": [
           {
            "error_x": {
             "color": "rgb(36,36,36)"
            },
            "error_y": {
             "color": "rgb(36,36,36)"
            },
            "marker": {
             "line": {
              "color": "white",
              "width": 0.5
             },
             "pattern": {
              "fillmode": "overlay",
              "size": 10,
              "solidity": 0.2
             }
            },
            "type": "bar"
           }
          ],
          "barpolar": [
           {
            "marker": {
             "line": {
              "color": "white",
              "width": 0.5
             },
             "pattern": {
              "fillmode": "overlay",
              "size": 10,
              "solidity": 0.2
             }
            },
            "type": "barpolar"
           }
          ],
          "carpet": [
           {
            "aaxis": {
             "endlinecolor": "rgb(36,36,36)",
             "gridcolor": "white",
             "linecolor": "white",
             "minorgridcolor": "white",
             "startlinecolor": "rgb(36,36,36)"
            },
            "baxis": {
             "endlinecolor": "rgb(36,36,36)",
             "gridcolor": "white",
             "linecolor": "white",
             "minorgridcolor": "white",
             "startlinecolor": "rgb(36,36,36)"
            },
            "type": "carpet"
           }
          ],
          "choropleth": [
           {
            "colorbar": {
             "outlinewidth": 1,
             "tickcolor": "rgb(36,36,36)",
             "ticks": "outside"
            },
            "type": "choropleth"
           }
          ],
          "contour": [
           {
            "colorbar": {
             "outlinewidth": 1,
             "tickcolor": "rgb(36,36,36)",
             "ticks": "outside"
            },
            "colorscale": [
             [
              0,
              "#440154"
             ],
             [
              0.1111111111111111,
              "#482878"
             ],
             [
              0.2222222222222222,
              "#3e4989"
             ],
             [
              0.3333333333333333,
              "#31688e"
             ],
             [
              0.4444444444444444,
              "#26828e"
             ],
             [
              0.5555555555555556,
              "#1f9e89"
             ],
             [
              0.6666666666666666,
              "#35b779"
             ],
             [
              0.7777777777777778,
              "#6ece58"
             ],
             [
              0.8888888888888888,
              "#b5de2b"
             ],
             [
              1,
              "#fde725"
             ]
            ],
            "type": "contour"
           }
          ],
          "contourcarpet": [
           {
            "colorbar": {
             "outlinewidth": 1,
             "tickcolor": "rgb(36,36,36)",
             "ticks": "outside"
            },
            "type": "contourcarpet"
           }
          ],
          "heatmap": [
           {
            "colorbar": {
             "outlinewidth": 1,
             "tickcolor": "rgb(36,36,36)",
             "ticks": "outside"
            },
            "colorscale": [
             [
              0,
              "#440154"
             ],
             [
              0.1111111111111111,
              "#482878"
             ],
             [
              0.2222222222222222,
              "#3e4989"
             ],
             [
              0.3333333333333333,
              "#31688e"
             ],
             [
              0.4444444444444444,
              "#26828e"
             ],
             [
              0.5555555555555556,
              "#1f9e89"
             ],
             [
              0.6666666666666666,
              "#35b779"
             ],
             [
              0.7777777777777778,
              "#6ece58"
             ],
             [
              0.8888888888888888,
              "#b5de2b"
             ],
             [
              1,
              "#fde725"
             ]
            ],
            "type": "heatmap"
           }
          ],
          "heatmapgl": [
           {
            "colorbar": {
             "outlinewidth": 1,
             "tickcolor": "rgb(36,36,36)",
             "ticks": "outside"
            },
            "colorscale": [
             [
              0,
              "#440154"
             ],
             [
              0.1111111111111111,
              "#482878"
             ],
             [
              0.2222222222222222,
              "#3e4989"
             ],
             [
              0.3333333333333333,
              "#31688e"
             ],
             [
              0.4444444444444444,
              "#26828e"
             ],
             [
              0.5555555555555556,
              "#1f9e89"
             ],
             [
              0.6666666666666666,
              "#35b779"
             ],
             [
              0.7777777777777778,
              "#6ece58"
             ],
             [
              0.8888888888888888,
              "#b5de2b"
             ],
             [
              1,
              "#fde725"
             ]
            ],
            "type": "heatmapgl"
           }
          ],
          "histogram": [
           {
            "marker": {
             "line": {
              "color": "white",
              "width": 0.6
             }
            },
            "type": "histogram"
           }
          ],
          "histogram2d": [
           {
            "colorbar": {
             "outlinewidth": 1,
             "tickcolor": "rgb(36,36,36)",
             "ticks": "outside"
            },
            "colorscale": [
             [
              0,
              "#440154"
             ],
             [
              0.1111111111111111,
              "#482878"
             ],
             [
              0.2222222222222222,
              "#3e4989"
             ],
             [
              0.3333333333333333,
              "#31688e"
             ],
             [
              0.4444444444444444,
              "#26828e"
             ],
             [
              0.5555555555555556,
              "#1f9e89"
             ],
             [
              0.6666666666666666,
              "#35b779"
             ],
             [
              0.7777777777777778,
              "#6ece58"
             ],
             [
              0.8888888888888888,
              "#b5de2b"
             ],
             [
              1,
              "#fde725"
             ]
            ],
            "type": "histogram2d"
           }
          ],
          "histogram2dcontour": [
           {
            "colorbar": {
             "outlinewidth": 1,
             "tickcolor": "rgb(36,36,36)",
             "ticks": "outside"
            },
            "colorscale": [
             [
              0,
              "#440154"
             ],
             [
              0.1111111111111111,
              "#482878"
             ],
             [
              0.2222222222222222,
              "#3e4989"
             ],
             [
              0.3333333333333333,
              "#31688e"
             ],
             [
              0.4444444444444444,
              "#26828e"
             ],
             [
              0.5555555555555556,
              "#1f9e89"
             ],
             [
              0.6666666666666666,
              "#35b779"
             ],
             [
              0.7777777777777778,
              "#6ece58"
             ],
             [
              0.8888888888888888,
              "#b5de2b"
             ],
             [
              1,
              "#fde725"
             ]
            ],
            "type": "histogram2dcontour"
           }
          ],
          "mesh3d": [
           {
            "colorbar": {
             "outlinewidth": 1,
             "tickcolor": "rgb(36,36,36)",
             "ticks": "outside"
            },
            "type": "mesh3d"
           }
          ],
          "parcoords": [
           {
            "line": {
             "colorbar": {
              "outlinewidth": 1,
              "tickcolor": "rgb(36,36,36)",
              "ticks": "outside"
             }
            },
            "type": "parcoords"
           }
          ],
          "pie": [
           {
            "automargin": true,
            "type": "pie"
           }
          ],
          "scatter": [
           {
            "fillpattern": {
             "fillmode": "overlay",
             "size": 10,
             "solidity": 0.2
            },
            "type": "scatter"
           }
          ],
          "scatter3d": [
           {
            "line": {
             "colorbar": {
              "outlinewidth": 1,
              "tickcolor": "rgb(36,36,36)",
              "ticks": "outside"
             }
            },
            "marker": {
             "colorbar": {
              "outlinewidth": 1,
              "tickcolor": "rgb(36,36,36)",
              "ticks": "outside"
             }
            },
            "type": "scatter3d"
           }
          ],
          "scattercarpet": [
           {
            "marker": {
             "colorbar": {
              "outlinewidth": 1,
              "tickcolor": "rgb(36,36,36)",
              "ticks": "outside"
             }
            },
            "type": "scattercarpet"
           }
          ],
          "scattergeo": [
           {
            "marker": {
             "colorbar": {
              "outlinewidth": 1,
              "tickcolor": "rgb(36,36,36)",
              "ticks": "outside"
             }
            },
            "type": "scattergeo"
           }
          ],
          "scattergl": [
           {
            "marker": {
             "colorbar": {
              "outlinewidth": 1,
              "tickcolor": "rgb(36,36,36)",
              "ticks": "outside"
             }
            },
            "type": "scattergl"
           }
          ],
          "scattermapbox": [
           {
            "marker": {
             "colorbar": {
              "outlinewidth": 1,
              "tickcolor": "rgb(36,36,36)",
              "ticks": "outside"
             }
            },
            "type": "scattermapbox"
           }
          ],
          "scatterpolar": [
           {
            "marker": {
             "colorbar": {
              "outlinewidth": 1,
              "tickcolor": "rgb(36,36,36)",
              "ticks": "outside"
             }
            },
            "type": "scatterpolar"
           }
          ],
          "scatterpolargl": [
           {
            "marker": {
             "colorbar": {
              "outlinewidth": 1,
              "tickcolor": "rgb(36,36,36)",
              "ticks": "outside"
             }
            },
            "type": "scatterpolargl"
           }
          ],
          "scatterternary": [
           {
            "marker": {
             "colorbar": {
              "outlinewidth": 1,
              "tickcolor": "rgb(36,36,36)",
              "ticks": "outside"
             }
            },
            "type": "scatterternary"
           }
          ],
          "surface": [
           {
            "colorbar": {
             "outlinewidth": 1,
             "tickcolor": "rgb(36,36,36)",
             "ticks": "outside"
            },
            "colorscale": [
             [
              0,
              "#440154"
             ],
             [
              0.1111111111111111,
              "#482878"
             ],
             [
              0.2222222222222222,
              "#3e4989"
             ],
             [
              0.3333333333333333,
              "#31688e"
             ],
             [
              0.4444444444444444,
              "#26828e"
             ],
             [
              0.5555555555555556,
              "#1f9e89"
             ],
             [
              0.6666666666666666,
              "#35b779"
             ],
             [
              0.7777777777777778,
              "#6ece58"
             ],
             [
              0.8888888888888888,
              "#b5de2b"
             ],
             [
              1,
              "#fde725"
             ]
            ],
            "type": "surface"
           }
          ],
          "table": [
           {
            "cells": {
             "fill": {
              "color": "rgb(237,237,237)"
             },
             "line": {
              "color": "white"
             }
            },
            "header": {
             "fill": {
              "color": "rgb(217,217,217)"
             },
             "line": {
              "color": "white"
             }
            },
            "type": "table"
           }
          ]
         },
         "layout": {
          "annotationdefaults": {
           "arrowhead": 0,
           "arrowwidth": 1
          },
          "autotypenumbers": "strict",
          "coloraxis": {
           "colorbar": {
            "outlinewidth": 1,
            "tickcolor": "rgb(36,36,36)",
            "ticks": "outside"
           }
          },
          "colorscale": {
           "diverging": [
            [
             0,
             "rgb(103,0,31)"
            ],
            [
             0.1,
             "rgb(178,24,43)"
            ],
            [
             0.2,
             "rgb(214,96,77)"
            ],
            [
             0.3,
             "rgb(244,165,130)"
            ],
            [
             0.4,
             "rgb(253,219,199)"
            ],
            [
             0.5,
             "rgb(247,247,247)"
            ],
            [
             0.6,
             "rgb(209,229,240)"
            ],
            [
             0.7,
             "rgb(146,197,222)"
            ],
            [
             0.8,
             "rgb(67,147,195)"
            ],
            [
             0.9,
             "rgb(33,102,172)"
            ],
            [
             1,
             "rgb(5,48,97)"
            ]
           ],
           "sequential": [
            [
             0,
             "#440154"
            ],
            [
             0.1111111111111111,
             "#482878"
            ],
            [
             0.2222222222222222,
             "#3e4989"
            ],
            [
             0.3333333333333333,
             "#31688e"
            ],
            [
             0.4444444444444444,
             "#26828e"
            ],
            [
             0.5555555555555556,
             "#1f9e89"
            ],
            [
             0.6666666666666666,
             "#35b779"
            ],
            [
             0.7777777777777778,
             "#6ece58"
            ],
            [
             0.8888888888888888,
             "#b5de2b"
            ],
            [
             1,
             "#fde725"
            ]
           ],
           "sequentialminus": [
            [
             0,
             "#440154"
            ],
            [
             0.1111111111111111,
             "#482878"
            ],
            [
             0.2222222222222222,
             "#3e4989"
            ],
            [
             0.3333333333333333,
             "#31688e"
            ],
            [
             0.4444444444444444,
             "#26828e"
            ],
            [
             0.5555555555555556,
             "#1f9e89"
            ],
            [
             0.6666666666666666,
             "#35b779"
            ],
            [
             0.7777777777777778,
             "#6ece58"
            ],
            [
             0.8888888888888888,
             "#b5de2b"
            ],
            [
             1,
             "#fde725"
            ]
           ]
          },
          "colorway": [
           "#1F77B4",
           "#FF7F0E",
           "#2CA02C",
           "#D62728",
           "#9467BD",
           "#8C564B",
           "#E377C2",
           "#7F7F7F",
           "#BCBD22",
           "#17BECF"
          ],
          "font": {
           "color": "rgb(36,36,36)"
          },
          "geo": {
           "bgcolor": "white",
           "lakecolor": "white",
           "landcolor": "white",
           "showlakes": true,
           "showland": true,
           "subunitcolor": "white"
          },
          "hoverlabel": {
           "align": "left"
          },
          "hovermode": "closest",
          "mapbox": {
           "style": "light"
          },
          "paper_bgcolor": "white",
          "plot_bgcolor": "white",
          "polar": {
           "angularaxis": {
            "gridcolor": "rgb(232,232,232)",
            "linecolor": "rgb(36,36,36)",
            "showgrid": false,
            "showline": true,
            "ticks": "outside"
           },
           "bgcolor": "white",
           "radialaxis": {
            "gridcolor": "rgb(232,232,232)",
            "linecolor": "rgb(36,36,36)",
            "showgrid": false,
            "showline": true,
            "ticks": "outside"
           }
          },
          "scene": {
           "xaxis": {
            "backgroundcolor": "white",
            "gridcolor": "rgb(232,232,232)",
            "gridwidth": 2,
            "linecolor": "rgb(36,36,36)",
            "showbackground": true,
            "showgrid": false,
            "showline": true,
            "ticks": "outside",
            "zeroline": false,
            "zerolinecolor": "rgb(36,36,36)"
           },
           "yaxis": {
            "backgroundcolor": "white",
            "gridcolor": "rgb(232,232,232)",
            "gridwidth": 2,
            "linecolor": "rgb(36,36,36)",
            "showbackground": true,
            "showgrid": false,
            "showline": true,
            "ticks": "outside",
            "zeroline": false,
            "zerolinecolor": "rgb(36,36,36)"
           },
           "zaxis": {
            "backgroundcolor": "white",
            "gridcolor": "rgb(232,232,232)",
            "gridwidth": 2,
            "linecolor": "rgb(36,36,36)",
            "showbackground": true,
            "showgrid": false,
            "showline": true,
            "ticks": "outside",
            "zeroline": false,
            "zerolinecolor": "rgb(36,36,36)"
           }
          },
          "shapedefaults": {
           "fillcolor": "black",
           "line": {
            "width": 0
           },
           "opacity": 0.3
          },
          "ternary": {
           "aaxis": {
            "gridcolor": "rgb(232,232,232)",
            "linecolor": "rgb(36,36,36)",
            "showgrid": false,
            "showline": true,
            "ticks": "outside"
           },
           "baxis": {
            "gridcolor": "rgb(232,232,232)",
            "linecolor": "rgb(36,36,36)",
            "showgrid": false,
            "showline": true,
            "ticks": "outside"
           },
           "bgcolor": "white",
           "caxis": {
            "gridcolor": "rgb(232,232,232)",
            "linecolor": "rgb(36,36,36)",
            "showgrid": false,
            "showline": true,
            "ticks": "outside"
           }
          },
          "title": {
           "x": 0.05
          },
          "xaxis": {
           "automargin": true,
           "gridcolor": "rgb(232,232,232)",
           "linecolor": "rgb(36,36,36)",
           "showgrid": false,
           "showline": true,
           "ticks": "outside",
           "title": {
            "standoff": 15
           },
           "zeroline": false,
           "zerolinecolor": "rgb(36,36,36)"
          },
          "yaxis": {
           "automargin": true,
           "gridcolor": "rgb(232,232,232)",
           "linecolor": "rgb(36,36,36)",
           "showgrid": false,
           "showline": true,
           "ticks": "outside",
           "title": {
            "standoff": 15
           },
           "zeroline": false,
           "zerolinecolor": "rgb(36,36,36)"
          }
         }
        },
        "title": {
         "text": "Percentage of Female Actors per Genre"
        },
        "width": 650,
        "xaxis": {
         "anchor": "y",
         "domain": [
          0,
          1
         ],
         "tickangle": -60,
         "title": {
          "text": "Movie Genre"
         }
        },
        "yaxis": {
         "anchor": "x",
         "domain": [
          0,
          1
         ],
         "title": {
          "text": "Percentage of Female Actors"
         }
        }
       }
      },
      "text/html": [
       "<div>                            <div id=\"bc88dab6-0ad7-4446-8ac8-3b9f76d86fe7\" class=\"plotly-graph-div\" style=\"height:450px; width:650px;\"></div>            <script type=\"text/javascript\">                require([\"plotly\"], function(Plotly) {                    window.PLOTLYENV=window.PLOTLYENV || {};                                    if (document.getElementById(\"bc88dab6-0ad7-4446-8ac8-3b9f76d86fe7\")) {                    Plotly.newPlot(                        \"bc88dab6-0ad7-4446-8ac8-3b9f76d86fe7\",                        [{\"alignmentgroup\":\"True\",\"hovertemplate\":\"Movie Genre=%{x}<br>Percentage of Female Actors=%{y}<extra></extra>\",\"legendgroup\":\"\",\"marker\":{\"color\":\"#FF69B4\",\"pattern\":{\"shape\":\"\"}},\"name\":\"\",\"offsetgroup\":\"\",\"orientation\":\"v\",\"showlegend\":false,\"textposition\":\"auto\",\"x\":[\"Romantic comedy\",\"Romantic drama\",\"Comedy-drama\",\"Romance Film\",\"Teen\",\"Musical\",\"Indie\",\"Coming of age\",\"Horror\",\"Comedy\",\"Psychological thriller\",\"Mystery\",\"Film adaptation\",\"Drama\",\"Black comedy\",\"Fantasy\",\"Family Film\",\"Parody\",\"Biography\",\"Period piece\",\"Animation\",\"Costume drama\",\"Children's/Family\",\"Crime Thriller\",\"Thriller\",\"Science Fiction\",\"Crime Fiction\",\"Buddy film\",\"Adventure\",\"Sports\",\"Action\",\"Action/Adventure\",\"War film\"],\"xaxis\":\"x\",\"y\":[45.24224468455908,44.866529774127315,43.190249072602015,43.116516834126564,42.8454619787408,41.95672624647225,41.448140900195696,38.86792452830189,37.3079287031346,37.25706271288319,36.6600790513834,36.427145708582835,36.16273229532898,36.11774065234686,35.97185576077397,34.276618323310934,33.35669236159776,32.93515358361775,32.84848484848485,32.44176013805004,31.330472103004293,30.969267139479907,30.916030534351147,30.756302521008404,30.374280230326296,29.053461875547764,28.539768529918742,28.522727272727273,28.234136743728477,26.69683257918552,25.508253692441357,25.45631540520808,20.15732546705998],\"yaxis\":\"y\",\"type\":\"bar\"}],                        {\"template\":{\"data\":{\"barpolar\":[{\"marker\":{\"line\":{\"color\":\"white\",\"width\":0.5},\"pattern\":{\"fillmode\":\"overlay\",\"size\":10,\"solidity\":0.2}},\"type\":\"barpolar\"}],\"bar\":[{\"error_x\":{\"color\":\"rgb(36,36,36)\"},\"error_y\":{\"color\":\"rgb(36,36,36)\"},\"marker\":{\"line\":{\"color\":\"white\",\"width\":0.5},\"pattern\":{\"fillmode\":\"overlay\",\"size\":10,\"solidity\":0.2}},\"type\":\"bar\"}],\"carpet\":[{\"aaxis\":{\"endlinecolor\":\"rgb(36,36,36)\",\"gridcolor\":\"white\",\"linecolor\":\"white\",\"minorgridcolor\":\"white\",\"startlinecolor\":\"rgb(36,36,36)\"},\"baxis\":{\"endlinecolor\":\"rgb(36,36,36)\",\"gridcolor\":\"white\",\"linecolor\":\"white\",\"minorgridcolor\":\"white\",\"startlinecolor\":\"rgb(36,36,36)\"},\"type\":\"carpet\"}],\"choropleth\":[{\"colorbar\":{\"outlinewidth\":1,\"tickcolor\":\"rgb(36,36,36)\",\"ticks\":\"outside\"},\"type\":\"choropleth\"}],\"contourcarpet\":[{\"colorbar\":{\"outlinewidth\":1,\"tickcolor\":\"rgb(36,36,36)\",\"ticks\":\"outside\"},\"type\":\"contourcarpet\"}],\"contour\":[{\"colorbar\":{\"outlinewidth\":1,\"tickcolor\":\"rgb(36,36,36)\",\"ticks\":\"outside\"},\"colorscale\":[[0.0,\"#440154\"],[0.1111111111111111,\"#482878\"],[0.2222222222222222,\"#3e4989\"],[0.3333333333333333,\"#31688e\"],[0.4444444444444444,\"#26828e\"],[0.5555555555555556,\"#1f9e89\"],[0.6666666666666666,\"#35b779\"],[0.7777777777777778,\"#6ece58\"],[0.8888888888888888,\"#b5de2b\"],[1.0,\"#fde725\"]],\"type\":\"contour\"}],\"heatmapgl\":[{\"colorbar\":{\"outlinewidth\":1,\"tickcolor\":\"rgb(36,36,36)\",\"ticks\":\"outside\"},\"colorscale\":[[0.0,\"#440154\"],[0.1111111111111111,\"#482878\"],[0.2222222222222222,\"#3e4989\"],[0.3333333333333333,\"#31688e\"],[0.4444444444444444,\"#26828e\"],[0.5555555555555556,\"#1f9e89\"],[0.6666666666666666,\"#35b779\"],[0.7777777777777778,\"#6ece58\"],[0.8888888888888888,\"#b5de2b\"],[1.0,\"#fde725\"]],\"type\":\"heatmapgl\"}],\"heatmap\":[{\"colorbar\":{\"outlinewidth\":1,\"tickcolor\":\"rgb(36,36,36)\",\"ticks\":\"outside\"},\"colorscale\":[[0.0,\"#440154\"],[0.1111111111111111,\"#482878\"],[0.2222222222222222,\"#3e4989\"],[0.3333333333333333,\"#31688e\"],[0.4444444444444444,\"#26828e\"],[0.5555555555555556,\"#1f9e89\"],[0.6666666666666666,\"#35b779\"],[0.7777777777777778,\"#6ece58\"],[0.8888888888888888,\"#b5de2b\"],[1.0,\"#fde725\"]],\"type\":\"heatmap\"}],\"histogram2dcontour\":[{\"colorbar\":{\"outlinewidth\":1,\"tickcolor\":\"rgb(36,36,36)\",\"ticks\":\"outside\"},\"colorscale\":[[0.0,\"#440154\"],[0.1111111111111111,\"#482878\"],[0.2222222222222222,\"#3e4989\"],[0.3333333333333333,\"#31688e\"],[0.4444444444444444,\"#26828e\"],[0.5555555555555556,\"#1f9e89\"],[0.6666666666666666,\"#35b779\"],[0.7777777777777778,\"#6ece58\"],[0.8888888888888888,\"#b5de2b\"],[1.0,\"#fde725\"]],\"type\":\"histogram2dcontour\"}],\"histogram2d\":[{\"colorbar\":{\"outlinewidth\":1,\"tickcolor\":\"rgb(36,36,36)\",\"ticks\":\"outside\"},\"colorscale\":[[0.0,\"#440154\"],[0.1111111111111111,\"#482878\"],[0.2222222222222222,\"#3e4989\"],[0.3333333333333333,\"#31688e\"],[0.4444444444444444,\"#26828e\"],[0.5555555555555556,\"#1f9e89\"],[0.6666666666666666,\"#35b779\"],[0.7777777777777778,\"#6ece58\"],[0.8888888888888888,\"#b5de2b\"],[1.0,\"#fde725\"]],\"type\":\"histogram2d\"}],\"histogram\":[{\"marker\":{\"line\":{\"color\":\"white\",\"width\":0.6}},\"type\":\"histogram\"}],\"mesh3d\":[{\"colorbar\":{\"outlinewidth\":1,\"tickcolor\":\"rgb(36,36,36)\",\"ticks\":\"outside\"},\"type\":\"mesh3d\"}],\"parcoords\":[{\"line\":{\"colorbar\":{\"outlinewidth\":1,\"tickcolor\":\"rgb(36,36,36)\",\"ticks\":\"outside\"}},\"type\":\"parcoords\"}],\"pie\":[{\"automargin\":true,\"type\":\"pie\"}],\"scatter3d\":[{\"line\":{\"colorbar\":{\"outlinewidth\":1,\"tickcolor\":\"rgb(36,36,36)\",\"ticks\":\"outside\"}},\"marker\":{\"colorbar\":{\"outlinewidth\":1,\"tickcolor\":\"rgb(36,36,36)\",\"ticks\":\"outside\"}},\"type\":\"scatter3d\"}],\"scattercarpet\":[{\"marker\":{\"colorbar\":{\"outlinewidth\":1,\"tickcolor\":\"rgb(36,36,36)\",\"ticks\":\"outside\"}},\"type\":\"scattercarpet\"}],\"scattergeo\":[{\"marker\":{\"colorbar\":{\"outlinewidth\":1,\"tickcolor\":\"rgb(36,36,36)\",\"ticks\":\"outside\"}},\"type\":\"scattergeo\"}],\"scattergl\":[{\"marker\":{\"colorbar\":{\"outlinewidth\":1,\"tickcolor\":\"rgb(36,36,36)\",\"ticks\":\"outside\"}},\"type\":\"scattergl\"}],\"scattermapbox\":[{\"marker\":{\"colorbar\":{\"outlinewidth\":1,\"tickcolor\":\"rgb(36,36,36)\",\"ticks\":\"outside\"}},\"type\":\"scattermapbox\"}],\"scatterpolargl\":[{\"marker\":{\"colorbar\":{\"outlinewidth\":1,\"tickcolor\":\"rgb(36,36,36)\",\"ticks\":\"outside\"}},\"type\":\"scatterpolargl\"}],\"scatterpolar\":[{\"marker\":{\"colorbar\":{\"outlinewidth\":1,\"tickcolor\":\"rgb(36,36,36)\",\"ticks\":\"outside\"}},\"type\":\"scatterpolar\"}],\"scatter\":[{\"fillpattern\":{\"fillmode\":\"overlay\",\"size\":10,\"solidity\":0.2},\"type\":\"scatter\"}],\"scatterternary\":[{\"marker\":{\"colorbar\":{\"outlinewidth\":1,\"tickcolor\":\"rgb(36,36,36)\",\"ticks\":\"outside\"}},\"type\":\"scatterternary\"}],\"surface\":[{\"colorbar\":{\"outlinewidth\":1,\"tickcolor\":\"rgb(36,36,36)\",\"ticks\":\"outside\"},\"colorscale\":[[0.0,\"#440154\"],[0.1111111111111111,\"#482878\"],[0.2222222222222222,\"#3e4989\"],[0.3333333333333333,\"#31688e\"],[0.4444444444444444,\"#26828e\"],[0.5555555555555556,\"#1f9e89\"],[0.6666666666666666,\"#35b779\"],[0.7777777777777778,\"#6ece58\"],[0.8888888888888888,\"#b5de2b\"],[1.0,\"#fde725\"]],\"type\":\"surface\"}],\"table\":[{\"cells\":{\"fill\":{\"color\":\"rgb(237,237,237)\"},\"line\":{\"color\":\"white\"}},\"header\":{\"fill\":{\"color\":\"rgb(217,217,217)\"},\"line\":{\"color\":\"white\"}},\"type\":\"table\"}]},\"layout\":{\"annotationdefaults\":{\"arrowhead\":0,\"arrowwidth\":1},\"autotypenumbers\":\"strict\",\"coloraxis\":{\"colorbar\":{\"outlinewidth\":1,\"tickcolor\":\"rgb(36,36,36)\",\"ticks\":\"outside\"}},\"colorscale\":{\"diverging\":[[0.0,\"rgb(103,0,31)\"],[0.1,\"rgb(178,24,43)\"],[0.2,\"rgb(214,96,77)\"],[0.3,\"rgb(244,165,130)\"],[0.4,\"rgb(253,219,199)\"],[0.5,\"rgb(247,247,247)\"],[0.6,\"rgb(209,229,240)\"],[0.7,\"rgb(146,197,222)\"],[0.8,\"rgb(67,147,195)\"],[0.9,\"rgb(33,102,172)\"],[1.0,\"rgb(5,48,97)\"]],\"sequential\":[[0.0,\"#440154\"],[0.1111111111111111,\"#482878\"],[0.2222222222222222,\"#3e4989\"],[0.3333333333333333,\"#31688e\"],[0.4444444444444444,\"#26828e\"],[0.5555555555555556,\"#1f9e89\"],[0.6666666666666666,\"#35b779\"],[0.7777777777777778,\"#6ece58\"],[0.8888888888888888,\"#b5de2b\"],[1.0,\"#fde725\"]],\"sequentialminus\":[[0.0,\"#440154\"],[0.1111111111111111,\"#482878\"],[0.2222222222222222,\"#3e4989\"],[0.3333333333333333,\"#31688e\"],[0.4444444444444444,\"#26828e\"],[0.5555555555555556,\"#1f9e89\"],[0.6666666666666666,\"#35b779\"],[0.7777777777777778,\"#6ece58\"],[0.8888888888888888,\"#b5de2b\"],[1.0,\"#fde725\"]]},\"colorway\":[\"#1F77B4\",\"#FF7F0E\",\"#2CA02C\",\"#D62728\",\"#9467BD\",\"#8C564B\",\"#E377C2\",\"#7F7F7F\",\"#BCBD22\",\"#17BECF\"],\"font\":{\"color\":\"rgb(36,36,36)\"},\"geo\":{\"bgcolor\":\"white\",\"lakecolor\":\"white\",\"landcolor\":\"white\",\"showlakes\":true,\"showland\":true,\"subunitcolor\":\"white\"},\"hoverlabel\":{\"align\":\"left\"},\"hovermode\":\"closest\",\"mapbox\":{\"style\":\"light\"},\"paper_bgcolor\":\"white\",\"plot_bgcolor\":\"white\",\"polar\":{\"angularaxis\":{\"gridcolor\":\"rgb(232,232,232)\",\"linecolor\":\"rgb(36,36,36)\",\"showgrid\":false,\"showline\":true,\"ticks\":\"outside\"},\"bgcolor\":\"white\",\"radialaxis\":{\"gridcolor\":\"rgb(232,232,232)\",\"linecolor\":\"rgb(36,36,36)\",\"showgrid\":false,\"showline\":true,\"ticks\":\"outside\"}},\"scene\":{\"xaxis\":{\"backgroundcolor\":\"white\",\"gridcolor\":\"rgb(232,232,232)\",\"gridwidth\":2,\"linecolor\":\"rgb(36,36,36)\",\"showbackground\":true,\"showgrid\":false,\"showline\":true,\"ticks\":\"outside\",\"zeroline\":false,\"zerolinecolor\":\"rgb(36,36,36)\"},\"yaxis\":{\"backgroundcolor\":\"white\",\"gridcolor\":\"rgb(232,232,232)\",\"gridwidth\":2,\"linecolor\":\"rgb(36,36,36)\",\"showbackground\":true,\"showgrid\":false,\"showline\":true,\"ticks\":\"outside\",\"zeroline\":false,\"zerolinecolor\":\"rgb(36,36,36)\"},\"zaxis\":{\"backgroundcolor\":\"white\",\"gridcolor\":\"rgb(232,232,232)\",\"gridwidth\":2,\"linecolor\":\"rgb(36,36,36)\",\"showbackground\":true,\"showgrid\":false,\"showline\":true,\"ticks\":\"outside\",\"zeroline\":false,\"zerolinecolor\":\"rgb(36,36,36)\"}},\"shapedefaults\":{\"fillcolor\":\"black\",\"line\":{\"width\":0},\"opacity\":0.3},\"ternary\":{\"aaxis\":{\"gridcolor\":\"rgb(232,232,232)\",\"linecolor\":\"rgb(36,36,36)\",\"showgrid\":false,\"showline\":true,\"ticks\":\"outside\"},\"baxis\":{\"gridcolor\":\"rgb(232,232,232)\",\"linecolor\":\"rgb(36,36,36)\",\"showgrid\":false,\"showline\":true,\"ticks\":\"outside\"},\"bgcolor\":\"white\",\"caxis\":{\"gridcolor\":\"rgb(232,232,232)\",\"linecolor\":\"rgb(36,36,36)\",\"showgrid\":false,\"showline\":true,\"ticks\":\"outside\"}},\"title\":{\"x\":0.05},\"xaxis\":{\"automargin\":true,\"gridcolor\":\"rgb(232,232,232)\",\"linecolor\":\"rgb(36,36,36)\",\"showgrid\":false,\"showline\":true,\"ticks\":\"outside\",\"title\":{\"standoff\":15},\"zeroline\":false,\"zerolinecolor\":\"rgb(36,36,36)\"},\"yaxis\":{\"automargin\":true,\"gridcolor\":\"rgb(232,232,232)\",\"linecolor\":\"rgb(36,36,36)\",\"showgrid\":false,\"showline\":true,\"ticks\":\"outside\",\"title\":{\"standoff\":15},\"zeroline\":false,\"zerolinecolor\":\"rgb(36,36,36)\"}}},\"xaxis\":{\"anchor\":\"y\",\"domain\":[0.0,1.0],\"title\":{\"text\":\"Movie Genre\"},\"tickangle\":-60},\"yaxis\":{\"anchor\":\"x\",\"domain\":[0.0,1.0],\"title\":{\"text\":\"Percentage of Female Actors\"}},\"legend\":{\"tracegroupgap\":0},\"title\":{\"text\":\"Percentage of Female Actors per Genre\"},\"barmode\":\"relative\",\"height\":450,\"width\":650,\"shapes\":[{\"line\":{\"color\":\"black\",\"dash\":\"dash\"},\"type\":\"line\",\"x0\":0,\"x1\":1,\"xref\":\"x domain\",\"y0\":39.33,\"y1\":39.33,\"yref\":\"y\"}]},                        {\"responsive\": true}                    ).then(function(){\n",
       "                            \n",
       "var gd = document.getElementById('bc88dab6-0ad7-4446-8ac8-3b9f76d86fe7');\n",
       "var x = new MutationObserver(function (mutations, observer) {{\n",
       "        var display = window.getComputedStyle(gd).display;\n",
       "        if (!display || display === 'none') {{\n",
       "            console.log([gd, 'removed!']);\n",
       "            Plotly.purge(gd);\n",
       "            observer.disconnect();\n",
       "        }}\n",
       "}});\n",
       "\n",
       "// Listen for the removal of the full notebook cells\n",
       "var notebookContainer = gd.closest('#notebook-container');\n",
       "if (notebookContainer) {{\n",
       "    x.observe(notebookContainer, {childList: true});\n",
       "}}\n",
       "\n",
       "// Listen for the clearing of the current output cell\n",
       "var outputEl = gd.closest('.output');\n",
       "if (outputEl) {{\n",
       "    x.observe(outputEl, {childList: true});\n",
       "}}\n",
       "\n",
       "                        })                };                });            </script>        </div>"
      ]
     },
     "metadata": {},
     "output_type": "display_data"
    }
   ],
   "source": [
    "fig = px.bar(df_gender_per_genre_lim, x=df_gender_per_genre_lim.index, y='ratio', color_discrete_sequence=[\"#FF69B4\"],\n",
    "             template= 'simple_white', labels={'ratio': 'Percentage of Female Actors', 'index' : 'Movie Genre'},\n",
    "             title= 'Percentage of Female Actors per Genre', height=450, width=650)\n",
    "fig.update_xaxes(tickangle=300)\n",
    "fig.add_hline(line_color = 'black', line_dash= 'dash', y=39.33)\n",
    "fig.show()\n",
    "\n",
    "if SAVE_FIG:\n",
    "    fig.write_html(\"Images/female_actors_movie_genres.html\")"
   ]
  },
  {
   "cell_type": "markdown",
   "metadata": {},
   "source": [
    "### Visualizations for the matching study (success)"
   ]
  },
  {
   "cell_type": "code",
   "execution_count": 20,
   "metadata": {},
   "outputs": [
    {
     "name": "stderr",
     "output_type": "stream",
     "text": [
      "<ipython-input-20-5e6ac28a859a>:16: SettingWithCopyWarning: \n",
      "A value is trying to be set on a copy of a slice from a DataFrame.\n",
      "Try using .loc[row_indexer,col_indexer] = value instead\n",
      "\n",
      "See the caveats in the documentation: https://pandas.pydata.org/pandas-docs/stable/user_guide/indexing.html#returning-a-view-versus-a-copy\n",
      "  movies_control.loc[:,'group'] = 'control'\n",
      "<ipython-input-20-5e6ac28a859a>:17: SettingWithCopyWarning: \n",
      "A value is trying to be set on a copy of a slice from a DataFrame.\n",
      "Try using .loc[row_indexer,col_indexer] = value instead\n",
      "\n",
      "See the caveats in the documentation: https://pandas.pydata.org/pandas-docs/stable/user_guide/indexing.html#returning-a-view-versus-a-copy\n",
      "  movies_treat.loc[:,'group'] = 'treat'\n"
     ]
    }
   ],
   "source": [
    "# Seleciton of films in USA in english or american\n",
    "USA = 'United States of America'\n",
    "eng = 'English Language'\n",
    "american = 'American English'\n",
    "mask = movies.apply(lambda x:USA in x.Movie_countries and (eng in x.Movie_languages or american in x.Movie_languages),axis=1)\n",
    "id_eng = movies.loc[mask,'Wikipedia_movie_ID'].values\n",
    "df_gender_eng = df_gender[df_gender.index.isin(id_eng)]\n",
    "\n",
    "eps = 10\n",
    "nb_actor = 3\n",
    "sigma_y = df_all.Movie_release_date.std()\n",
    "control_df = df_gender_eng[df_gender_eng.ratio < global_mean-eps]\n",
    "treat_df = df_gender_eng[df_gender_eng.ratio > global_mean+eps]\n",
    "movies_control = df_all[df_all.Wikipedia_movie_ID.isin(control_df.index)]\n",
    "movies_treat = df_all[df_all.Wikipedia_movie_ID.isin(treat_df.index)]\n",
    "movies_control.loc[:,'group'] = 'control'\n",
    "movies_treat.loc[:,'group'] = 'treat'\n",
    "df_before_match = pd.concat([movies_control,movies_treat],axis=0)\n",
    "\n",
    "# Standard deviation in log revenue, and log(geometric means)\n",
    "std_control = movies_control.log_revenue.std()\n",
    "std_treat = movies_treat.log_revenue.std()\n",
    "mean_control = movies_control.log_revenue.mean()\n",
    "mean_treat = movies_treat.log_revenue.mean()"
   ]
  },
  {
   "cell_type": "code",
   "execution_count": 32,
   "metadata": {
    "scrolled": true
   },
   "outputs": [
    {
     "data": {
      "image/png": "[encoded data removed]",
      "text/plain": [
       "<Figure size 720x432 with 1 Axes>"
      ]
     },
     "metadata": {
      "needs_background": "light"
     },
     "output_type": "display_data"
    }
   ],
   "source": [
    "fig,ax = plt.subplots(figsize=(10,6), constrained_layout=True)\n",
    "sns.barplot(data = df_before_match, y='Movie_box_office_revenue',x='group', order=[\"control\", \"treat\"], ax=ax,\n",
    "            palette=colors, estimator=np.median).set(xlabel='Group', ylabel='Movie box office revenue (\\$)')\n",
    "ax.set_xticklabels(['Low Percentage of Female Actors', 'High Percentage of Female Actors'])\n",
    "ax.set_box_aspect(1.8/len(ax.patches))\n",
    "plt.title('Median Box Office Revenue of Movies Before Matching')\n",
    "\n",
    "if SAVE_FIG:\n",
    "    plt.savefig('Images/revenue_before_matching.png')"
   ]
  },
  {
   "cell_type": "code",
   "execution_count": 33,
   "metadata": {},
   "outputs": [
    {
     "data": {
      "image/png": "[encoded data removed]",
      "text/plain": [
       "<Figure size 720x432 with 1 Axes>"
      ]
     },
     "metadata": {
      "needs_background": "light"
     },
     "output_type": "display_data"
    }
   ],
   "source": [
    "fig,ax = plt.subplots(figsize=(10,6), constrained_layout=True)\n",
    "sns.barplot(data = df_before_match, y='averageRating',x='group', order=[\"control\", \"treat\"], ax=ax,\n",
    "            palette=colors, estimator=np.mean).set(xlabel='Group', ylabel='Rating of Movies')\n",
    "ax.set_xticklabels(['Low Percentage of Female Actors', 'High Percentage of Female Actors'])\n",
    "ax.set_box_aspect(1.8/len(ax.patches))\n",
    "plt.title('Movies Rating Before Matching')\n",
    "\n",
    "if SAVE_FIG:\n",
    "    plt.savefig('Images/ratings_before_matching.png')"
   ]
  },
  {
   "cell_type": "code",
   "execution_count": 27,
   "metadata": {},
   "outputs": [],
   "source": [
    "# Find the minimal matching by distance <-> maximal matching by similarity\n",
    "matching = nx.algorithms.bipartite.matching.minimum_weight_full_matching(G) #(Wiki_id_control, Wiki_id_treat)"
   ]
  },
  {
   "cell_type": "code",
   "execution_count": 28,
   "metadata": {
    "scrolled": true
   },
   "outputs": [
    {
     "name": "stderr",
     "output_type": "stream",
     "text": [
      "<ipython-input-28-3ac3c1b1f08d>:5: SettingWithCopyWarning: \n",
      "A value is trying to be set on a copy of a slice from a DataFrame.\n",
      "Try using .loc[row_indexer,col_indexer] = value instead\n",
      "\n",
      "See the caveats in the documentation: https://pandas.pydata.org/pandas-docs/stable/user_guide/indexing.html#returning-a-view-versus-a-copy\n",
      "  df_match.loc[df_match.Wikipedia_movie_ID == key,'group'] = 'control'\n"
     ]
    },
    {
     "data": {
      "text/html": [
       "<div>\n",
       "<style scoped>\n",
       "    .dataframe tbody tr th:only-of-type {\n",
       "        vertical-align: middle;\n",
       "    }\n",
       "\n",
       "    .dataframe tbody tr th {\n",
       "        vertical-align: top;\n",
       "    }\n",
       "\n",
       "    .dataframe thead th {\n",
       "        text-align: right;\n",
       "    }\n",
       "</style>\n",
       "<table border=\"1\" class=\"dataframe\">\n",
       "  <thead>\n",
       "    <tr style=\"text-align: right;\">\n",
       "      <th></th>\n",
       "      <th>genre</th>\n",
       "      <th>score</th>\n",
       "      <th>votes</th>\n",
       "      <th>director</th>\n",
       "      <th>writer</th>\n",
       "      <th>star</th>\n",
       "      <th>country</th>\n",
       "      <th>budget</th>\n",
       "      <th>company</th>\n",
       "      <th>Wikipedia_movie_ID</th>\n",
       "      <th>...</th>\n",
       "      <th>tconst</th>\n",
       "      <th>titleType</th>\n",
       "      <th>isAdult</th>\n",
       "      <th>genres</th>\n",
       "      <th>tconstIdentifier</th>\n",
       "      <th>averageRating</th>\n",
       "      <th>numVotes</th>\n",
       "      <th>log_revenue</th>\n",
       "      <th>log_budget</th>\n",
       "      <th>group</th>\n",
       "    </tr>\n",
       "  </thead>\n",
       "  <tbody>\n",
       "    <tr>\n",
       "      <th>76</th>\n",
       "      <td>Comedy</td>\n",
       "      <td>6.9</td>\n",
       "      <td>68000.0</td>\n",
       "      <td>Ivan Reitman</td>\n",
       "      <td>Len Blum</td>\n",
       "      <td>Bill Murray</td>\n",
       "      <td>United States</td>\n",
       "      <td>10000000.0</td>\n",
       "      <td>Columbia Pictures</td>\n",
       "      <td>560511</td>\n",
       "      <td>...</td>\n",
       "      <td>tt0083131</td>\n",
       "      <td>movie</td>\n",
       "      <td>0</td>\n",
       "      <td>Comedy,War</td>\n",
       "      <td>tt0083131</td>\n",
       "      <td>6.8</td>\n",
       "      <td>74616</td>\n",
       "      <td>7.930934</td>\n",
       "      <td>7.000000</td>\n",
       "      <td>treat</td>\n",
       "    </tr>\n",
       "    <tr>\n",
       "      <th>77</th>\n",
       "      <td>Adventure</td>\n",
       "      <td>7.4</td>\n",
       "      <td>59000.0</td>\n",
       "      <td>John Boorman</td>\n",
       "      <td>Thomas Malory</td>\n",
       "      <td>Nigel Terry</td>\n",
       "      <td>United Kingdom</td>\n",
       "      <td>11000000.0</td>\n",
       "      <td>Cinema '84</td>\n",
       "      <td>250699</td>\n",
       "      <td>...</td>\n",
       "      <td>tt0082348</td>\n",
       "      <td>movie</td>\n",
       "      <td>0</td>\n",
       "      <td>Adventure,Drama,Fantasy</td>\n",
       "      <td>tt0082348</td>\n",
       "      <td>7.3</td>\n",
       "      <td>62537</td>\n",
       "      <td>7.543664</td>\n",
       "      <td>7.041393</td>\n",
       "      <td>treat</td>\n",
       "    </tr>\n",
       "    <tr>\n",
       "      <th>79</th>\n",
       "      <td>Action</td>\n",
       "      <td>6.9</td>\n",
       "      <td>42000.0</td>\n",
       "      <td>Desmond Davis</td>\n",
       "      <td>Beverley Cross</td>\n",
       "      <td>Laurence Olivier</td>\n",
       "      <td>United Kingdom</td>\n",
       "      <td>15000000.0</td>\n",
       "      <td>Charles H. Schneer Productions</td>\n",
       "      <td>948548</td>\n",
       "      <td>...</td>\n",
       "      <td>tt0082186</td>\n",
       "      <td>movie</td>\n",
       "      <td>0</td>\n",
       "      <td>Action,Adventure,Family</td>\n",
       "      <td>tt0082186</td>\n",
       "      <td>6.9</td>\n",
       "      <td>44884</td>\n",
       "      <td>7.612784</td>\n",
       "      <td>7.176091</td>\n",
       "      <td>control</td>\n",
       "    </tr>\n",
       "    <tr>\n",
       "      <th>84</th>\n",
       "      <td>Crime</td>\n",
       "      <td>6.6</td>\n",
       "      <td>22000.0</td>\n",
       "      <td>Bob Rafelson</td>\n",
       "      <td>David Mamet</td>\n",
       "      <td>Jack Nicholson</td>\n",
       "      <td>West Germany</td>\n",
       "      <td>12000000.0</td>\n",
       "      <td>CIP Filmproduktion GmbH</td>\n",
       "      <td>5429460</td>\n",
       "      <td>...</td>\n",
       "      <td>tt0082934</td>\n",
       "      <td>movie</td>\n",
       "      <td>0</td>\n",
       "      <td>Crime,Drama,Romance</td>\n",
       "      <td>tt0082934</td>\n",
       "      <td>6.6</td>\n",
       "      <td>24083</td>\n",
       "      <td>7.086360</td>\n",
       "      <td>7.079181</td>\n",
       "      <td>control</td>\n",
       "    </tr>\n",
       "    <tr>\n",
       "      <th>89</th>\n",
       "      <td>Drama</td>\n",
       "      <td>6.8</td>\n",
       "      <td>17000.0</td>\n",
       "      <td>Harold Becker</td>\n",
       "      <td>Darryl Ponicsan</td>\n",
       "      <td>George C. Scott</td>\n",
       "      <td>United States</td>\n",
       "      <td>14000000.0</td>\n",
       "      <td>Major Studio Partners</td>\n",
       "      <td>30863819</td>\n",
       "      <td>...</td>\n",
       "      <td>tt0083169</td>\n",
       "      <td>movie</td>\n",
       "      <td>0</td>\n",
       "      <td>Drama</td>\n",
       "      <td>tt0083169</td>\n",
       "      <td>6.7</td>\n",
       "      <td>18834</td>\n",
       "      <td>7.544108</td>\n",
       "      <td>7.146128</td>\n",
       "      <td>treat</td>\n",
       "    </tr>\n",
       "  </tbody>\n",
       "</table>\n",
       "<p>5 rows × 28 columns</p>\n",
       "</div>"
      ],
      "text/plain": [
       "        genre  score    votes       director           writer  \\\n",
       "76     Comedy    6.9  68000.0   Ivan Reitman         Len Blum   \n",
       "77  Adventure    7.4  59000.0   John Boorman    Thomas Malory   \n",
       "79     Action    6.9  42000.0  Desmond Davis   Beverley Cross   \n",
       "84      Crime    6.6  22000.0   Bob Rafelson      David Mamet   \n",
       "89      Drama    6.8  17000.0  Harold Becker  Darryl Ponicsan   \n",
       "\n",
       "                star         country      budget  \\\n",
       "76       Bill Murray   United States  10000000.0   \n",
       "77       Nigel Terry  United Kingdom  11000000.0   \n",
       "79  Laurence Olivier  United Kingdom  15000000.0   \n",
       "84    Jack Nicholson    West Germany  12000000.0   \n",
       "89   George C. Scott   United States  14000000.0   \n",
       "\n",
       "                           company  Wikipedia_movie_ID  ...     tconst  \\\n",
       "76               Columbia Pictures              560511  ...  tt0083131   \n",
       "77                      Cinema '84              250699  ...  tt0082348   \n",
       "79  Charles H. Schneer Productions              948548  ...  tt0082186   \n",
       "84         CIP Filmproduktion GmbH             5429460  ...  tt0082934   \n",
       "89           Major Studio Partners            30863819  ...  tt0083169   \n",
       "\n",
       "   titleType  isAdult                   genres tconstIdentifier averageRating  \\\n",
       "76     movie        0               Comedy,War        tt0083131           6.8   \n",
       "77     movie        0  Adventure,Drama,Fantasy        tt0082348           7.3   \n",
       "79     movie        0  Action,Adventure,Family        tt0082186           6.9   \n",
       "84     movie        0      Crime,Drama,Romance        tt0082934           6.6   \n",
       "89     movie        0                    Drama        tt0083169           6.7   \n",
       "\n",
       "   numVotes  log_revenue log_budget    group  \n",
       "76    74616     7.930934   7.000000    treat  \n",
       "77    62537     7.543664   7.041393    treat  \n",
       "79    44884     7.612784   7.176091  control  \n",
       "84    24083     7.086360   7.079181  control  \n",
       "89    18834     7.544108   7.146128    treat  \n",
       "\n",
       "[5 rows x 28 columns]"
      ]
     },
     "execution_count": 28,
     "metadata": {},
     "output_type": "execute_result"
    }
   ],
   "source": [
    "# Creation of the new dataframe\n",
    "df_match = df_all[df_all.Wikipedia_movie_ID.isin(list(matching.keys()) + list(matching.values()))]\n",
    "# annotate control/treated group\n",
    "for key,val in matching.items():\n",
    "    df_match.loc[df_match.Wikipedia_movie_ID == key,'group'] = 'control'\n",
    "    df_match.loc[df_match.Wikipedia_movie_ID == val,'group'] = 'treat'\n",
    "df_match.head()"
   ]
  },
  {
   "cell_type": "code",
   "execution_count": 34,
   "metadata": {
    "scrolled": true
   },
   "outputs": [
    {
     "data": {
      "image/png": "[encoded data removed]",
      "text/plain": [
       "<Figure size 720x432 with 1 Axes>"
      ]
     },
     "metadata": {
      "needs_background": "light"
     },
     "output_type": "display_data"
    }
   ],
   "source": [
    "fig,ax = plt.subplots(figsize=(10,6), constrained_layout=True)\n",
    "sns.barplot(data = df_match, y='Movie_box_office_revenue',x='group', order=[\"control\", \"treat\"], ax=ax,\n",
    "            palette=colors, estimator=np.median).set(xlabel='Group', ylabel='Movie box office revenue (\\$)')\n",
    "ax.set_xticklabels(['Low Percentage of Female Actors', 'High Percentage of Female Actors'])\n",
    "ax.set_box_aspect(1.8/len(ax.patches))\n",
    "plt.title('Median Box Office Revenue of Movies After Matching')\n",
    "\n",
    "if SAVE_FIG:\n",
    "    plt.savefig('Images/revenue_after_matching.png')"
   ]
  },
  {
   "cell_type": "code",
   "execution_count": 35,
   "metadata": {},
   "outputs": [
    {
     "data": {
      "image/png": "[encoded data removed]",
      "text/plain": [
       "<Figure size 720x432 with 1 Axes>"
      ]
     },
     "metadata": {
      "needs_background": "light"
     },
     "output_type": "display_data"
    }
   ],
   "source": [
    "fig,ax = plt.subplots(figsize=(10,6), constrained_layout=True)\n",
    "sns.barplot(data = df_match, y='averageRating',x='group', order=[\"control\", \"treat\"], ax=ax,\n",
    "            palette=colors, estimator=np.mean).set(xlabel='Group', ylabel='Rating of Movies')\n",
    "ax.set_xticklabels(['Low Percentage of Female Actors', 'High Percentage of Female Actors'])\n",
    "ax.set_box_aspect(1.8/len(ax.patches))\n",
    "plt.title('Movies Rating After Matching')\n",
    "\n",
    "if SAVE_FIG:\n",
    "    plt.savefig('Images/ratings_after_matching.png')"
   ]
  }
 ],
 "metadata": {
  "kernelspec": {
   "display_name": "Python 3",
   "language": "python",
   "name": "python3"
  },
  "language_info": {
   "codemirror_mode": {
    "name": "ipython",
    "version": 3
   },
   "file_extension": ".py",
   "mimetype": "text/x-python",
   "name": "python",
   "nbconvert_exporter": "python",
   "pygments_lexer": "ipython3",
   "version": "3.8.5"
  }
 },
 "nbformat": 4,
 "nbformat_minor": 4
}
