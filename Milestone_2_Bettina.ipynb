{
 "cells": [
  {
   "cell_type": "markdown",
   "metadata": {},
   "source": [
    "# Project Milestone 2"
   ]
  },
  {
   "cell_type": "markdown",
   "metadata": {},
   "source": [
    "## Load the Data"
   ]
  },
  {
   "cell_type": "code",
   "execution_count": 1,
   "metadata": {},
   "outputs": [],
   "source": [
    "#Import important libraries\n",
    "import tarfile\n",
    "import pandas as pd\n",
    "import numpy as np\n",
    "import seaborn as sns\n",
    "import matplotlib.pyplot as plt\n",
    "import csv\n",
    "%matplotlib inline\n",
    "import pickle\n",
    "import sklearn"
   ]
  },
  {
   "cell_type": "code",
   "execution_count": 2,
   "metadata": {},
   "outputs": [],
   "source": [
    "DATA_FOLDER = 'Data/'\n",
    "CHARACTER_DATASET = DATA_FOLDER + 'character.metadata.tsv'\n",
    "NLP_DATASET = DATA_FOLDER + 'corenlp_plot_summaries.tar'\n",
    "MOVIE_DATASET = DATA_FOLDER + 'Movie.metadata.tsv'\n",
    "SUMMARIES_DATASET = DATA_FOLDER + 'plot_summaries.txt.gz'\n",
    "DEFAULT_COMPRESSION = 'gzip'"
   ]
  },
  {
   "cell_type": "code",
   "execution_count": 3,
   "metadata": {},
   "outputs": [],
   "source": [
    "def load_metadata(path, column_names, header=None, low_memory=False):\n",
    "    return pd.read_table(path, header=header, names=column_names)"
   ]
  },
  {
   "cell_type": "code",
   "execution_count": 7,
   "metadata": {},
   "outputs": [],
   "source": [
    "columns_character = ['Wikipedia_movie_ID', 'Freebase_movie_ID', 'Movie_release_date', 'Character_name', 'Actor_date_of_birth', 'Actor_gender', 'Actor_height_meters', 'Actor_ethnicity_Freebase_ID', 'Actor_name', 'Actor_age_at_movie_release', 'Freebase_character_actor_map_ID', 'Freebase_character_ID', 'Freebase_actor_ID']\n",
    "columns_movie = ['Wikipedia_movie_ID', 'Freebase_movie_ID', 'Movie_name','Movie_release_date','Movie_box_office_revenue', 'Movie_runtime','Movie_languages','Movie_countries','Movie_genres' ]\n",
    "\n",
    "characters = load_metadata(CHARACTER_DATASET,column_names=columns_character)\n",
    "movies = load_metadata(MOVIE_DATASET,column_names=columns_movie)"
   ]
  },
  {
   "cell_type": "markdown",
   "metadata": {},
   "source": [
    "Formatting the data: "
   ]
  },
  {
   "cell_type": "code",
   "execution_count": 11,
   "metadata": {},
   "outputs": [],
   "source": [
    "def format_multiple(chain,deb,step):\n",
    "    res = chain.split('\"')[deb::step]\n",
    "    return res"
   ]
  },
  {
   "cell_type": "code",
   "execution_count": 12,
   "metadata": {},
   "outputs": [],
   "source": [
    "movies.Movie_genres = movies.Movie_genres.apply(format_multiple,deb=3,step=4)\n",
    "movies.Movie_countries = movies.Movie_countries.apply(format_multiple,deb=3,step=4)\n",
    "movies.Movie_languages = movies.Movie_languages.apply(format_multiple,deb=3,step=4)"
   ]
  },
  {
   "cell_type": "code",
   "execution_count": 13,
   "metadata": {},
   "outputs": [
    {
     "name": "stdout",
     "output_type": "stream",
     "text": [
      "13866 movies without Movie_languages (16.96\\% of the dataset)\n",
      "8154 movies without Movie_countries (9.98\\% of the dataset)\n",
      "2294 movies without Movie_genres (2.81\\% of the dataset)\n"
     ]
    }
   ],
   "source": [
    "keys = ['Movie_languages','Movie_countries','Movie_genres']\n",
    "for key in keys:\n",
    "    nb = len(movies[movies[key].apply(len) == 0])\n",
    "    print('{nb} movies without {key} ({percentage:.2f}\\% of the dataset)'.format(nb=nb,key=key, percentage=nb*100/len(movies)))"
   ]
  },
  {
   "cell_type": "markdown",
   "metadata": {},
   "source": [
    "## Exploring the Data"
   ]
  },
  {
   "cell_type": "markdown",
   "metadata": {},
   "source": [
    "Time to look at the movies genres"
   ]
  },
  {
   "cell_type": "code",
   "execution_count": 34,
   "metadata": {},
   "outputs": [
    {
     "data": {
      "text/plain": [
       "0    [Thriller, Science Fiction, Horror, Adventure,...\n",
       "1     [Mystery, Biographical film, Drama, Crime Drama]\n",
       "2                               [Crime Fiction, Drama]\n",
       "3    [Thriller, Erotic thriller, Psychological thri...\n",
       "4                                              [Drama]\n",
       "Name: Movie_genres, dtype: object"
      ]
     },
     "execution_count": 34,
     "metadata": {},
     "output_type": "execute_result"
    }
   ],
   "source": [
    "movies.Movie_genres.head()"
   ]
  },
  {
   "cell_type": "code",
   "execution_count": 40,
   "metadata": {},
   "outputs": [],
   "source": [
    "#How many movies per genre\n",
    "genres ={}\n",
    "for i in movies.Movie_genres:\n",
    "    for j in i:\n",
    "        if j not in genres:\n",
    "            genres[j] = 1\n",
    "        else:\n",
    "            genres[j]+=1"
   ]
  },
  {
   "cell_type": "code",
   "execution_count": 58,
   "metadata": {},
   "outputs": [
    {
     "name": "stdout",
     "output_type": "stream",
     "text": [
      "{'Thriller': 8744, 'Science Fiction': 3052, 'Horror': 5280, 'Adventure': 4963, 'Supernatural': 641, 'Action': 8798, 'Space western': 13, 'Mystery': 3195, 'Biographical film': 1198, 'Drama': 34007, 'Crime Drama': 563, 'Crime Fiction': 6948, 'Erotic thriller': 209, 'Psychological thriller': 1331, 'Short Film': 8141, 'Silent film': 5250, 'Indie': 6897, 'Black-and-white': 9094, 'Comedy': 16349, 'Family Film': 4598, 'Fantasy': 2820, 'World cinema': 7155, 'Musical': 4160, 'Japanese Movies': 2322, 'Action/Adventure': 4561, 'Romantic comedy': 2680, 'Ensemble Film': 453, 'Comedy-drama': 1720, 'Romantic drama': 3372, 'Romance Film': 10234, 'Costume drama': 485, 'War film': 2652, 'Epic': 278, 'Period piece': 1758, 'Film adaptation': 1531, 'Animation': 3534, \"Children's/Family\": 926, \"Children's Fantasy\": 280, 'Future noir': 33, 'Comedy film': 4362, 'Coming of age': 910, 'Suspense': 759, 'Crime Thriller': 2122, 'Black comedy': 1025, 'Bollywood': 1321, 'Marriage Drama': 190, 'Wuxia': 125, 'Martial Arts Film': 928, 'Chinese Movies': 1525, 'Western': 2226, 'Parody': 999, 'Mockumentary': 173, 'Fan film': 39, 'Cult': 759, 'Adventure Comedy': 144, 'Slapstick': 617, 'Biopic [feature]': 635, 'Historical Epic': 103, 'Sports': 1206, 'Family Drama': 1043, 'Political drama': 799, 'Historical fiction': 606, 'Courtroom Drama': 242, 'Culture & Society': 751, 'Biography': 1392, 'Documentary': 5630, 'Christmas movie': 93, 'Television movie': 972, 'Malayalam Cinema': 13, 'Historical drama': 317, 'Action Comedy': 169, 'Blaxploitation': 107, 'Erotica': 316, 'Sci-Fi Horror': 143, 'Satire': 704, 'Epic Western': 18, 'Gangster Film': 428, 'Softcore Porn': 66, 'Sexploitation': 126, 'B-movie': 493, 'Zombie Film': 274, 'Action Thrillers': 516, 'Musical Drama': 192, 'Erotic Drama': 156, 'Pornographic movie': 317, 'Slasher': 768, 'Film noir': 622, 'Social issues': 320, 'Legal drama': 8, 'New Hollywood': 88, 'History': 888, 'Experimental film': 258, 'Surrealism': 156, 'Tragicomedy': 61, 'Avant-garde': 190, 'Crime Comedy': 307, 'Fantasy Comedy': 224, 'Monster movie': 189, 'Natural horror films': 175, 'Creature Film': 387, 'Gender Issues': 76, 'LGBT': 1163, 'Music': 1088, 'Comedy of Errors': 207, 'Political thriller': 242, 'Melodrama': 721, 'Americana': 107, 'Detective fiction': 340, 'Detective': 405, 'Concert film': 301, 'Horror Comedy': 241, 'Anime': 445, 'Childhood Drama': 148, 'Docudrama': 420, 'Teen': 925, 'Gothic Film': 73, 'Disaster': 287, 'Art film': 464, 'Domestic Comedy': 213, 'Musical comedy': 235, 'Family-Oriented Adventure': 244, 'Escape Film': 56, 'Prison': 131, 'Dance': 116, 'Superhero movie': 302, 'Filipino Movies': 346, 'Filipino': 12, 'Spy': 474, 'Combat Films': 101, 'Fantasy Adventure': 220, 'Political cinema': 415, 'Comedy horror': 28, 'C-Movie': 1, 'Dystopia': 95, 'Buddy film': 372, 'Tragedy': 101, 'Time travel': 88, 'Sword and sorcery': 51, 'Political satire': 102, 'Gross-out film': 58, 'Gross out': 58, 'Doomsday film': 122, 'Plague': 5, 'Propaganda film': 213, 'Screwball comedy': 299, 'Comedy Western': 72, 'Gay': 289, 'Gay Interest': 287, 'Gay Themed': 357, 'Film & Television History': 80, 'Film': 122, 'Medical fiction': 79, 'Costume Adventure': 106, 'Rockumentary': 193, 'Feminist Film': 99, 'Educational': 39, 'Buddy cop': 15, 'Film \\\\u00e0 clef': 34, 'Costume Horror': 62, 'Pre-Code': 180, 'Juvenile Delinquency Film': 59, 'Christian film': 160, 'Natural disaster': 15, 'Movie serial': 18, 'Linguistics': 1, 'Language & Literature': 29, 'Comedy of manners': 273, \"Children's\": 508, 'Remake': 89, 'Media Satire': 88, 'Computer Animation': 227, 'Spaghetti Western': 141, 'Dogme 95': 28, 'Backstage Musical': 26, 'Law & Crime': 85, 'Hybrid Western': 37, 'Stop motion': 173, 'Roadshow theatrical release': 43, 'Sex comedy': 323, 'Tollywood': 48, 'Women in prison films': 17, 'Holiday Film': 111, 'Heavenly Comedy': 31, 'Road movie': 343, 'Giallo': 35, 'Anthology': 14, 'Existentialism': 36, 'Social problem film': 136, 'Sci-Fi Adventure': 34, 'Anthropology': 15, 'Gay pornography': 73, 'Stoner film': 52, 'Auto racing': 78, 'Slice of life story': 122, 'Kitchen sink realism': 16, 'British New Wave': 14, 'Samurai cinema': 44, 'Heist': 174, 'Gulf War': 6, 'Archaeology': 10, 'Romantic fantasy': 72, 'Religious Film': 73, 'Biker Film': 25, 'Animal Picture': 183, 'Absurdism': 92, 'Swashbuckler films': 127, 'Hagiography': 27, 'Hardcore pornography': 10, 'Adult': 223, 'Animated Musical': 54, 'Anti-war': 42, 'Anti-war film': 41, 'Cavalry Film': 15, 'Haunted House Film': 76, 'Space opera': 5, 'Czechoslovak New Wave': 9, 'Animals': 49, 'Addiction Drama': 61, 'Punk rock': 68, 'Chase Movie': 110, 'Tokusatsu': 4, 'Pornography': 17, 'Extreme Sports': 32, 'Superhero': 125, 'Apocalyptic and post-apocalyptic fiction': 35, 'Whodunit': 80, 'Environmental Science': 34, 'Airplanes and airports': 56, 'Travel': 52, 'Alien Film': 113, 'Graphic & Applied Arts': 31, 'Animated cartoon': 122, 'Essay Film': 26, 'Inspirational Drama': 36, 'Revisionist Western': 69, 'Pinku eiga': 33, 'Stand-up comedy': 93, 'Jungle Film': 79, 'Fairy tale': 64, 'Comedy Thriller': 91, 'Tamil cinema': 67, 'Libraries and librarians': 5, 'Workplace Comedy': 97, 'Caper story': 109, 'Demonic child': 6, 'Illnesses & Disabilities': 55, 'Expressionism': 3, 'Glamorized Spy Film': 50, 'Early Black Cinema': 8, 'Interpersonal Relationships': 52, 'British Empire Film': 25, 'Monster': 118, 'Sword and sorcery films': 43, 'B-Western': 63, 'Bengali Cinema': 16, 'Filmed Play': 7, 'Northern': 23, 'Hip hop movies': 80, 'Humour': 4, 'Roadshow/Carny': 5, 'Exploitation': 24, 'Sword and Sandal': 27, 'Nature': 65, 'Mumblecore': 10, \"Children's Entertainment\": 20, 'Splatter film': 31, 'Star vehicle': 2, 'Business': 13, 'Mythological Fantasy': 34, 'Journalism': 9, 'Camp': 3, 'Boxing': 77, 'Mondo film': 13, 'Latino': 6, 'Alien invasion': 6, 'Sponsored film': 8, 'Revenge': 2, 'Foreign legion': 10, 'Historical Documentaries': 7, 'Heaven-Can-Wait Fantasies': 24, 'Baseball': 10, 'Prison film': 13, 'Conspiracy fiction': 2, 'Crime': 48, 'Master Criminal Films': 31, 'Jukebox musical': 8, 'Indian Western': 26, 'Road-Horror': 21, 'Werewolf fiction': 4, 'Feature film': 14, 'Neo-noir': 60, 'Private military company': 2, 'Finance & Investing': 6, 'Computers': 8, 'Movies About Gladiators': 6, 'Horse racing': 14, 'Nuclear warfare': 3, 'Inventions & Innovations': 15, 'Instrumental Music': 25, 'Media Studies': 35, 'Archives and records': 8, 'Psycho-biddy': 15, 'Outlaw biker film': 18, 'Prison escape': 2, 'Z movie': 3, 'News': 16, 'Beach Film': 21, 'Live action': 4, 'Fictional film': 9, 'Education': 8, 'Health & Fitness': 15, 'Film-Opera': 5, 'Period Horror': 2, 'Comdedy': 1, \"Children's Issues\": 5, 'Science fiction Western': 6, 'Bloopers & Candid Camera': 6, 'Psychological horror': 5, 'Albino bias': 17, 'Family & Personal Relationships': 17, 'Steampunk': 35, 'Fantasy Drama': 20, 'Sci-Fi Thriller': 5, 'Courtroom Comedy': 6, 'Operetta': 5, 'Parkour in popular culture': 6, 'Cyberpunk': 6, 'Coming-of-age film': 5, 'Cold War': 11, 'Political Documetary': 2, 'World History': 21, 'Reboot': 9, 'Bruceploitation': 4, 'Ealing Comedies': 15, 'Silhouette animation': 1, 'Female buddy film': 5, 'Race movie': 7, 'Breakdance': 1, 'Acid western': 9, 'War effort': 1, 'School story': 5, 'Clay animation': 6, 'Supermarionation': 3, 'Sci Fi Pictures original films': 5, 'Outlaw': 5, 'Kafkaesque': 6, 'Vampire movies': 3, 'Goat gland': 4, 'Therimin music': 4, 'Beach Party film': 2, 'Singing cowboy': 5, 'Point of view shot': 3, 'Romantic thriller': 1, 'Patriotic film': 2, 'Chick flick': 1, 'Ninja movie': 2, 'Buddy Picture': 1, 'Statutory rape': 1, 'New Queer Cinema': 1, 'Neorealism': 1, 'The Netherlands in World War II': 2, 'Revisionist Fairy Tale': 2, 'Homoeroticism': 1}\n"
     ]
    }
   ],
   "source": [
    "print(genres)"
   ]
  },
  {
   "cell_type": "markdown",
   "metadata": {},
   "source": [
    "We can see that there is a very big range in number of movies associated with a genre. There are also typos in here... \"'Comdedy': 1\""
   ]
  },
  {
   "cell_type": "code",
   "execution_count": 69,
   "metadata": {},
   "outputs": [
    {
     "data": {
      "text/plain": [
       "<seaborn.axisgrid.FacetGrid at 0x7f98885ec850>"
      ]
     },
     "execution_count": 69,
     "metadata": {},
     "output_type": "execute_result"
    },
    {
     "data": {
      "image/png": "[encoded data removed]",
      "text/plain": [
       "<Figure size 360x360 with 1 Axes>"
      ]
     },
     "metadata": {
      "needs_background": "light"
     },
     "output_type": "display_data"
    }
   ],
   "source": [
    "#How many genres per movie\n",
    "numGenres = []\n",
    "for i in movies.Movie_genres:\n",
    "    numGenres.append(len(i))\n",
    "\n",
    "sns.displot(data=numGenres, kde=False)\n",
    "#plt.hist(numGenres)\n",
    "#plt.show()"
   ]
  },
  {
   "cell_type": "markdown",
   "metadata": {},
   "source": [
    "Most movies have one or two genres."
   ]
  },
  {
   "cell_type": "markdown",
   "metadata": {},
   "source": [
    "## Pickling Data"
   ]
  },
  {
   "cell_type": "markdown",
   "metadata": {},
   "source": [
    "We can use this after cleaning our datasets so that we can use the data faster."
   ]
  },
  {
   "cell_type": "code",
   "execution_count": 10,
   "metadata": {},
   "outputs": [],
   "source": [
    "characters.to_pickle(\"./Data/characters.pkl\")\n",
    "movies.to_pickle(\"./Data/movies.pkl\")\n",
    "\n",
    "#To unpickle:\n",
    "# characters = pd.read_pickle(\"./Data/characters.pkl\") \n",
    "# movies = pd.read_pickle(\"./Data/movies.pkl\")"
   ]
  }
 ],
 "metadata": {
  "anaconda-cloud": {},
  "kernelspec": {
   "display_name": "Python 3",
   "language": "python",
   "name": "python3"
  },
  "language_info": {
   "codemirror_mode": {
    "name": "ipython",
    "version": 3
   },
   "file_extension": ".py",
   "mimetype": "text/x-python",
   "name": "python",
   "nbconvert_exporter": "python",
   "pygments_lexer": "ipython3",
   "version": "3.9.1"
  },
  "title": "Exercise 6: Population dynamics model with a limit cycle"
 },
 "nbformat": 4,
 "nbformat_minor": 4
}
